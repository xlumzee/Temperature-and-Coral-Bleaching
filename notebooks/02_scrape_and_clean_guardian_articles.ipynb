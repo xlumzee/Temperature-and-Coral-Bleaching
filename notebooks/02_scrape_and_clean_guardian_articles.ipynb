{
 "cells": [
  {
   "cell_type": "markdown",
   "id": "c7c7fe28-99d7-4486-9f75-8013a50b30bd",
   "metadata": {},
   "source": [
    "# Scrape Guardian Newspaper Articles"
   ]
  },
  {
   "cell_type": "code",
   "execution_count": 1,
   "id": "96a441e8-3396-4d07-88e7-ba2a84fbd132",
   "metadata": {},
   "outputs": [],
   "source": [
    "import os\n",
    "from urllib3.util.retry import Retry\n",
    "\n",
    "import pandas as pd\n",
    "import requests\n",
    "from bs4 import BeautifulSoup\n",
    "from contexttimer import Timer\n",
    "from requests.adapters import HTTPAdapter"
   ]
  },
  {
   "cell_type": "code",
   "execution_count": 2,
   "id": "3b25318e-88ed-48be-a663-78fa351ea358",
   "metadata": {},
   "outputs": [],
   "source": [
    "PROJ_ROOT = os.path.join(os.pardir)"
   ]
  },
  {
   "cell_type": "markdown",
   "id": "943a91f2-4464-4f21-b327-ca5ad05d85ab",
   "metadata": {},
   "source": [
    "## About"
   ]
  },
  {
   "cell_type": "markdown",
   "id": "0a0ade28-1393-4bcc-8137-08b8f44ccb86",
   "metadata": {},
   "source": [
    "Scrape Guardian newspaper articles."
   ]
  },
  {
   "cell_type": "markdown",
   "id": "4cabd1d1-5daf-4fb0-995c-ae9fc75e1cac",
   "metadata": {},
   "source": [
    "## User Inputs"
   ]
  },
  {
   "cell_type": "code",
   "execution_count": 3,
   "id": "0cc54081-6537-49ec-93ad-9ceccff08c8d",
   "metadata": {},
   "outputs": [],
   "source": [
    "urls_guardian = [\n",
    "    'https://www.theguardian.com/environment/2024/nov/14/worlds-largest-known-coral-discovered-in-solomon-islands',\n",
    "    'https://www.theguardian.com/environment/article/2024/jun/26/most-of-it-was-dead-scientists-discovers-one-of-great-barrier-reefs-worst-coral-bleaching-events',\n",
    "    'https://www.theguardian.com/environment/article/2024/jul/30/as-record-heat-risks-bleaching-73-of-the-worlds-coral-reefs-scientists-ask-what-do-we-do-now',\n",
    "    'https://www.theguardian.com/environment/2024/nov/19/graveyard-of-dead-coral-great-barrier-reef-bleaching-damage',\n",
    "    'https://www.theguardian.com/environment/2024/apr/15/great-barrier-reef-coral-bleaching-global-heating',\n",
    "    'https://www.theguardian.com/environment/article/2024/sep/09/sharks-deserting-coral-reefs-climate-crisis-heating-oceans-study',\n",
    "    'https://www.theguardian.com/environment/2024/apr/17/great-barrier-reef-extreme-coral-bleaching',\n",
    "    'https://www.theguardian.com/environment/2024/feb/28/aerial-surveys-of-great-barrier-reef-ordered-after-flights-confirm-mass-coral-bleaching',\n",
    "    'https://www.theguardian.com/environment/2024/may/01/great-barrier-reef-coral-bleaching-crisis',\n",
    "    'https://www.theguardian.com/environment/2023/dec/07/unprecedented-mass-coral-bleaching-expected-2024-professor-ove-hoegh-guldberg'\n",
    "]\n",
    "\n",
    "fname_processed = 'guardian_articles_cleaned.parquet'"
   ]
  },
  {
   "cell_type": "code",
   "execution_count": 4,
   "id": "05b49daa-fad4-4dc8-8a04-3323f3f59f54",
   "metadata": {},
   "outputs": [],
   "source": [
    "data_dir = os.path.join(PROJ_ROOT, 'data')\n",
    "raw_data_dir = os.path.join(data_dir, 'raw')\n",
    "processed_data_dir = os.path.join(data_dir, 'processed')\n",
    "\n",
    "fpath_processed = os.path.join(processed_data_dir, fname_processed)"
   ]
  },
  {
   "cell_type": "code",
   "execution_count": 5,
   "id": "6aa97466-b3b7-4244-a873-2a8c142a4931",
   "metadata": {},
   "outputs": [],
   "source": [
    "def get_guardian_text_from_soup(soup):\n",
    "    \"\"\"Get Guardian text from soup object\"\"\"\n",
    "    mydiv = soup.find(\"div\", {\"class\": \"article-body-commercial-selector\"})\n",
    "    # print(mydiv)\n",
    "    if not mydiv:\n",
    "        mydiv = soup.find(\"div\", {\"class\": \"content__article-body\"})\n",
    "    unwanted_tweets = mydiv.findAll(\n",
    "        \"figure\", {\"class\": \"element element-tweet\"}\n",
    "    )\n",
    "    for unwanted in unwanted_tweets:\n",
    "        unwanted.extract()\n",
    "    unwanted_images = mydiv.findAll(\n",
    "        \"figure\", {\"class\": \"element element-embed\"}\n",
    "    )\n",
    "    for unwanted in unwanted_images:\n",
    "        unwanted.extract()\n",
    "    unwanted_images2 = mydiv.findAll(\n",
    "        \"figure\",\n",
    "        {\n",
    "            \"class\": (\n",
    "                \"element element-image \"\n",
    "                \"img--landscape fig--narrow-caption fig--has-shares\"\n",
    "            )\n",
    "        },\n",
    "    )\n",
    "    for unwanted in unwanted_images2:\n",
    "        unwanted.extract()\n",
    "    all_text = str(mydiv.text).replace(\"\\n\", \"\")\n",
    "    art_text = all_text.split(\"Topics\")[0]\n",
    "    # print(art_text)\n",
    "    return art_text"
   ]
  },
  {
   "cell_type": "markdown",
   "id": "e5980728-f93b-458c-98f5-8591be340975",
   "metadata": {},
   "source": [
    "## Scrape Article Text"
   ]
  },
  {
   "cell_type": "code",
   "execution_count": 6,
   "id": "77bfc0b9-3035-442f-8ae2-ffa81ba3a8c1",
   "metadata": {},
   "outputs": [
    {
     "name": "stdout",
     "output_type": "stream",
     "text": [
      "Scraping article number 1, Link: https://www.theguardian.com/environment/2024/nov/14/worlds-largest-known-coral-discovered-in-solomon-islands\n",
      "Scraping time: 0.44 seconds\n",
      "Scraping article number 2, Link: https://www.theguardian.com/environment/article/2024/jun/26/most-of-it-was-dead-scientists-discovers-one-of-great-barrier-reefs-worst-coral-bleaching-events\n",
      "Scraping time: 0.32 seconds\n",
      "Scraping article number 3, Link: https://www.theguardian.com/environment/article/2024/jul/30/as-record-heat-risks-bleaching-73-of-the-worlds-coral-reefs-scientists-ask-what-do-we-do-now\n",
      "Scraping time: 0.50 seconds\n",
      "Scraping article number 4, Link: https://www.theguardian.com/environment/2024/nov/19/graveyard-of-dead-coral-great-barrier-reef-bleaching-damage\n",
      "Scraping time: 0.46 seconds\n",
      "Scraping article number 5, Link: https://www.theguardian.com/environment/2024/apr/15/great-barrier-reef-coral-bleaching-global-heating\n",
      "Scraping time: 0.44 seconds\n",
      "Scraping article number 6, Link: https://www.theguardian.com/environment/article/2024/sep/09/sharks-deserting-coral-reefs-climate-crisis-heating-oceans-study\n",
      "Scraping time: 0.56 seconds\n",
      "Scraping article number 7, Link: https://www.theguardian.com/environment/2024/apr/17/great-barrier-reef-extreme-coral-bleaching\n",
      "Scraping time: 0.38 seconds\n",
      "Scraping article number 8, Link: https://www.theguardian.com/environment/2024/feb/28/aerial-surveys-of-great-barrier-reef-ordered-after-flights-confirm-mass-coral-bleaching\n",
      "Scraping time: 0.29 seconds\n",
      "Scraping article number 9, Link: https://www.theguardian.com/environment/2024/may/01/great-barrier-reef-coral-bleaching-crisis\n",
      "Scraping time: 0.33 seconds\n",
      "Scraping article number 10, Link: https://www.theguardian.com/environment/2023/dec/07/unprecedented-mass-coral-bleaching-expected-2024-professor-ove-hoegh-guldberg\n",
      "Scraping time: 0.61 seconds\n",
      "CPU times: user 531 ms, sys: 9.22 ms, total: 540 ms\n",
      "Wall time: 4.32 s\n"
     ]
    }
   ],
   "source": [
    "%%time\n",
    "l_texts = {}\n",
    "for k, link in enumerate(urls_guardian):\n",
    "    print(f\"Scraping article number {k+1}, Link: {link}\")\n",
    "    # print(site, link)\n",
    "    with Timer() as t:\n",
    "        r_session = requests.Session()\n",
    "        retries = Retry(\n",
    "            total=2,\n",
    "            backoff_factor=0.1,\n",
    "            status_forcelist=[500, 502, 503, 504],\n",
    "        )\n",
    "        r_session.mount(\"http://\", HTTPAdapter(max_retries=retries))\n",
    "        try:\n",
    "            page_response = r_session.get(link, timeout=5)\n",
    "        except Exception as ex:\n",
    "            print(f\"{ex} Error connecting to {link}\")\n",
    "        else:\n",
    "            try:\n",
    "                soup = BeautifulSoup(page_response.content, \"lxml\")\n",
    "                # print(soup.prettify())\n",
    "            except Exception as e:\n",
    "                print(f\"Experienced error {str(e)} when scraping {link}\")\n",
    "                text = np.nan\n",
    "            else:\n",
    "                text = get_guardian_text_from_soup(soup)\n",
    "    print(f\"Scraping time: {t.elapsed:.2f} seconds\")\n",
    "    l_texts[link] = [text]"
   ]
  },
  {
   "cell_type": "code",
   "execution_count": 7,
   "id": "282e20c8-3d8b-4cd8-bb0d-2bd437892bce",
   "metadata": {},
   "outputs": [
    {
     "data": {
      "text/html": [
       "<div>\n",
       "<style scoped>\n",
       "    .dataframe tbody tr th:only-of-type {\n",
       "        vertical-align: middle;\n",
       "    }\n",
       "\n",
       "    .dataframe tbody tr th {\n",
       "        vertical-align: top;\n",
       "    }\n",
       "\n",
       "    .dataframe thead th {\n",
       "        text-align: right;\n",
       "    }\n",
       "</style>\n",
       "<table border=\"1\" class=\"dataframe\">\n",
       "  <thead>\n",
       "    <tr style=\"text-align: right;\">\n",
       "      <th></th>\n",
       "      <th>url</th>\n",
       "      <th>text</th>\n",
       "      <th>char_count</th>\n",
       "      <th>sentence_count_raw</th>\n",
       "      <th>token_count</th>\n",
       "    </tr>\n",
       "  </thead>\n",
       "  <tbody>\n",
       "    <tr>\n",
       "      <th>0</th>\n",
       "      <td>https://www.theguardian.com/environment/2024/n...</td>\n",
       "      <td>The world’s largest known coral, visible from ...</td>\n",
       "      <td>3087</td>\n",
       "      <td>481</td>\n",
       "      <td>772</td>\n",
       "    </tr>\n",
       "    <tr>\n",
       "      <th>1</th>\n",
       "      <td>https://www.theguardian.com/environment/articl...</td>\n",
       "      <td>At least 97% of corals on a reef in the Great ...</td>\n",
       "      <td>7025</td>\n",
       "      <td>1115</td>\n",
       "      <td>1756</td>\n",
       "    </tr>\n",
       "    <tr>\n",
       "      <th>2</th>\n",
       "      <td>https://www.theguardian.com/environment/articl...</td>\n",
       "      <td>After 18 months of record-breaking ocean tempe...</td>\n",
       "      <td>9264</td>\n",
       "      <td>1440</td>\n",
       "      <td>2316</td>\n",
       "    </tr>\n",
       "    <tr>\n",
       "      <th>3</th>\n",
       "      <td>https://www.theguardian.com/environment/2024/n...</td>\n",
       "      <td>Reefs across the north of the Great Barrier Re...</td>\n",
       "      <td>4147</td>\n",
       "      <td>685</td>\n",
       "      <td>1037</td>\n",
       "    </tr>\n",
       "    <tr>\n",
       "      <th>4</th>\n",
       "      <td>https://www.theguardian.com/environment/2024/a...</td>\n",
       "      <td>Global heating has pushed the world’s coral re...</td>\n",
       "      <td>6656</td>\n",
       "      <td>1042</td>\n",
       "      <td>1664</td>\n",
       "    </tr>\n",
       "    <tr>\n",
       "      <th>5</th>\n",
       "      <td>https://www.theguardian.com/environment/articl...</td>\n",
       "      <td>Sharks are deserting their coral reef homes as...</td>\n",
       "      <td>4531</td>\n",
       "      <td>717</td>\n",
       "      <td>1133</td>\n",
       "    </tr>\n",
       "    <tr>\n",
       "      <th>6</th>\n",
       "      <td>https://www.theguardian.com/environment/2024/a...</td>\n",
       "      <td>The Great Barrier Reef is in the midst of what...</td>\n",
       "      <td>6543</td>\n",
       "      <td>1041</td>\n",
       "      <td>1636</td>\n",
       "    </tr>\n",
       "    <tr>\n",
       "      <th>7</th>\n",
       "      <td>https://www.theguardian.com/environment/2024/f...</td>\n",
       "      <td>The Great Barrier Reef’s management authority ...</td>\n",
       "      <td>4484</td>\n",
       "      <td>696</td>\n",
       "      <td>1121</td>\n",
       "    </tr>\n",
       "    <tr>\n",
       "      <th>8</th>\n",
       "      <td>https://www.theguardian.com/environment/2024/m...</td>\n",
       "      <td>Beneath the turquoise waters off Heron Island ...</td>\n",
       "      <td>9597</td>\n",
       "      <td>1561</td>\n",
       "      <td>2399</td>\n",
       "    </tr>\n",
       "    <tr>\n",
       "      <th>9</th>\n",
       "      <td>https://www.theguardian.com/environment/2023/d...</td>\n",
       "      <td>Record-breaking land and sea temperatures, dri...</td>\n",
       "      <td>4749</td>\n",
       "      <td>766</td>\n",
       "      <td>1187</td>\n",
       "    </tr>\n",
       "  </tbody>\n",
       "</table>\n",
       "</div>"
      ],
      "text/plain": [
       "                                                 url  \\\n",
       "0  https://www.theguardian.com/environment/2024/n...   \n",
       "1  https://www.theguardian.com/environment/articl...   \n",
       "2  https://www.theguardian.com/environment/articl...   \n",
       "3  https://www.theguardian.com/environment/2024/n...   \n",
       "4  https://www.theguardian.com/environment/2024/a...   \n",
       "5  https://www.theguardian.com/environment/articl...   \n",
       "6  https://www.theguardian.com/environment/2024/a...   \n",
       "7  https://www.theguardian.com/environment/2024/f...   \n",
       "8  https://www.theguardian.com/environment/2024/m...   \n",
       "9  https://www.theguardian.com/environment/2023/d...   \n",
       "\n",
       "                                                text  char_count  \\\n",
       "0  The world’s largest known coral, visible from ...        3087   \n",
       "1  At least 97% of corals on a reef in the Great ...        7025   \n",
       "2  After 18 months of record-breaking ocean tempe...        9264   \n",
       "3  Reefs across the north of the Great Barrier Re...        4147   \n",
       "4  Global heating has pushed the world’s coral re...        6656   \n",
       "5  Sharks are deserting their coral reef homes as...        4531   \n",
       "6  The Great Barrier Reef is in the midst of what...        6543   \n",
       "7  The Great Barrier Reef’s management authority ...        4484   \n",
       "8  Beneath the turquoise waters off Heron Island ...        9597   \n",
       "9  Record-breaking land and sea temperatures, dri...        4749   \n",
       "\n",
       "   sentence_count_raw  token_count  \n",
       "0                 481          772  \n",
       "1                1115         1756  \n",
       "2                1440         2316  \n",
       "3                 685         1037  \n",
       "4                1042         1664  \n",
       "5                 717         1133  \n",
       "6                1041         1636  \n",
       "7                 696         1121  \n",
       "8                1561         2399  \n",
       "9                 766         1187  "
      ]
     },
     "metadata": {},
     "output_type": "display_data"
    }
   ],
   "source": [
    "df = (\n",
    "    pd.DataFrame.from_dict(l_texts, orient=\"index\")\n",
    "    .reset_index()\n",
    "    .rename(columns={\"index\": \"url\", 0: \"text\"})\n",
    "    .assign(\n",
    "        char_count=lambda df: df['text'].str.len(),\n",
    "        sentence_count_raw=lambda df: df['text'].str.split(\". \").str.len(),\n",
    "        token_count=lambda df: (df['text'].str.len()/4).round().astype(int),\n",
    "    )\n",
    "    .convert_dtypes()\n",
    ")\n",
    "display(df)"
   ]
  },
  {
   "cell_type": "markdown",
   "id": "be6fecba-949e-43e3-82c9-b4cd2edea59c",
   "metadata": {},
   "source": [
    "## Export to Disk"
   ]
  },
  {
   "cell_type": "code",
   "execution_count": 8,
   "id": "8a476491-2fcf-425c-9dab-0ca6f30c5586",
   "metadata": {},
   "outputs": [
    {
     "name": "stdout",
     "output_type": "stream",
     "text": [
      "CPU times: user 6.68 ms, sys: 1.99 ms, total: 8.67 ms\n",
      "Wall time: 8.31 ms\n"
     ]
    }
   ],
   "source": [
    "%%time\n",
    "df.to_parquet(fpath_processed, index=False)"
   ]
  }
 ],
 "metadata": {
  "kernelspec": {
   "display_name": "Python 3 (ipykernel)",
   "language": "python",
   "name": "python3"
  },
  "language_info": {
   "codemirror_mode": {
    "name": "ipython",
    "version": 3
   },
   "file_extension": ".py",
   "mimetype": "text/x-python",
   "name": "python",
   "nbconvert_exporter": "python",
   "pygments_lexer": "ipython3",
   "version": "3.10.12"
  }
 },
 "nbformat": 4,
 "nbformat_minor": 5
}
