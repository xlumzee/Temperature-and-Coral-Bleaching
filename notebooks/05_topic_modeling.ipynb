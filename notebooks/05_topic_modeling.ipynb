{
 "cells": [
  {
   "cell_type": "markdown",
   "id": "0012c6e5-5f5c-43aa-b5a4-0bd83b4db76d",
   "metadata": {},
   "source": [
    "# Topic Modeling for News Articles on Coral Bleaching"
   ]
  },
  {
   "cell_type": "code",
   "execution_count": 1,
   "id": "4587e8d8-9e35-4418-b9df-e3f4b4cda706",
   "metadata": {},
   "outputs": [],
   "source": [
    "import os\n",
    "import re\n",
    "import string\n",
    "import sys\n",
    "from collections import Counter\n",
    "from itertools import combinations\n",
    "from glob import glob\n",
    "from typing import List\n",
    "\n",
    "import numpy as np\n",
    "import pandas as pd\n",
    "import gensim\n",
    "import matplotlib.pyplot as plt\n",
    "from contexttimer import Timer\n",
    "from gensim.corpora.dictionary import Dictionary\n",
    "from gensim.models.coherencemodel import CoherenceModel\n",
    "from gensim.models.nmf import Nmf\n",
    "from nltk.stem.snowball import SnowballStemmer\n",
    "from nltk.tokenize import TweetTokenizer, RegexpTokenizer\n",
    "from sklearn.decomposition import NMF\n",
    "from sklearn.feature_extraction.text import ENGLISH_STOP_WORDS, TfidfVectorizer\n",
    "from sklearn.pipeline import Pipeline"
   ]
  },
  {
   "cell_type": "code",
   "execution_count": 2,
   "id": "5206c19e-0d94-4ba7-9f31-52592a96400c",
   "metadata": {},
   "outputs": [],
   "source": [
    "PROJ_ROOT = os.path.join(os.pardir)"
   ]
  },
  {
   "cell_type": "markdown",
   "id": "77dcf734-844e-4470-9282-2d2794c2dc33",
   "metadata": {},
   "source": [
    "## About"
   ]
  },
  {
   "cell_type": "markdown",
   "id": "8a13fe1e-99da-4170-b242-4c17bed4df35",
   "metadata": {},
   "source": [
    "### Objective\n",
    "\n",
    "Experiment with topic coherence using Gensim to find an optimal number of topics from the news listings about global coral bleaching events using cleaned texts that were scraped from the Guardian's news articles.\n",
    "\n",
    "### Technical Implementation\n",
    "\n",
    "After the optimal number of topics has been determined by Gensim's NMF, following [previous work](https://github.com/robsalgado/personal_data_science_projects/blob/master/topic_modeling_nmf/topic_modeling_cnn.ipynb), we will use `sklearn`'s `NMF` model with `TFIDF` vectorization to explore the topics, their top N terms and constituent documents (articles).\n",
    "\n",
    "### Notes\n",
    "\n",
    "1. See `03_scrape_guardian_articles.ipynb` for scraping code\n",
    "2. See `04_clean_guardian_articles.ipynb` for data cleaning"
   ]
  },
  {
   "cell_type": "markdown",
   "id": "3b649680-093b-4b82-ab99-174acb9eabdb",
   "metadata": {},
   "source": [
    "## User Inputs"
   ]
  },
  {
   "cell_type": "code",
   "execution_count": 3,
   "id": "ade4ad4f-1d66-4393-a8fa-fd1a49a00512",
   "metadata": {},
   "outputs": [],
   "source": [
    "# Contraction map\n",
    "c_dict = {\n",
    "    \"ain't\": \"am not\",\n",
    "    \"aren't\": \"are not\",\n",
    "    \"can't\": \"cannot\",\n",
    "    \"can't've\": \"cannot have\",\n",
    "    \"'cause\": \"because\",\n",
    "    \"could've\": \"could have\",\n",
    "    \"couldn't\": \"could not\",\n",
    "    \"couldn't've\": \"could not have\",\n",
    "    \"didn't\": \"did not\",\n",
    "    \"doesn't\": \"does not\",\n",
    "    \"don't\": \"do not\",\n",
    "    \"hadn't\": \"had not\",\n",
    "    \"hadn't've\": \"had not have\",\n",
    "    \"hasn't\": \"has not\",\n",
    "    \"haven't\": \"have not\",\n",
    "    \"he'd\": \"he would\",\n",
    "    \"he'd've\": \"he would have\",\n",
    "    \"he'll\": \"he will\",\n",
    "    \"he'll've\": \"he will have\",\n",
    "    \"he's\": \"he is\",\n",
    "    \"how'd\": \"how did\",\n",
    "    \"how'd'y\": \"how do you\",\n",
    "    \"how'll\": \"how will\",\n",
    "    \"how's\": \"how is\",\n",
    "    \"i'd\": \"I would\",\n",
    "    \"i'd've\": \"I would have\",\n",
    "    \"i'll\": \"I will\",\n",
    "    \"i'll've\": \"I will have\",\n",
    "    \"i'm\": \"I am\",\n",
    "    \"i've\": \"I have\",\n",
    "    \"isn't\": \"is not\",\n",
    "    \"it'd\": \"it had\",\n",
    "    \"it'd've\": \"it would have\",\n",
    "    \"it'll\": \"it will\",\n",
    "    \"it'll've\": \"it will have\",\n",
    "    \"it's\": \"it is\",\n",
    "    \"let's\": \"let us\",\n",
    "    \"ma'am\": \"madam\",\n",
    "    \"mayn't\": \"may not\",\n",
    "    \"might've\": \"might have\",\n",
    "    \"mightn't\": \"might not\",\n",
    "    \"mightn't've\": \"might not have\",\n",
    "    \"must've\": \"must have\",\n",
    "    \"mustn't\": \"must not\",\n",
    "    \"mustn't've\": \"must not have\",\n",
    "    \"needn't\": \"need not\",\n",
    "    \"needn't've\": \"need not have\",\n",
    "    \"o'clock\": \"of the clock\",\n",
    "    \"oughtn't\": \"ought not\",\n",
    "    \"oughtn't've\": \"ought not have\",\n",
    "    \"shan't\": \"shall not\",\n",
    "    \"sha'n't\": \"shall not\",\n",
    "    \"shan't've\": \"shall not have\",\n",
    "    \"she'd\": \"she would\",\n",
    "    \"she'd've\": \"she would have\",\n",
    "    \"she'll\": \"she will\",\n",
    "    \"she'll've\": \"she will have\",\n",
    "    \"she's\": \"she is\",\n",
    "    \"should've\": \"should have\",\n",
    "    \"shouldn't\": \"should not\",\n",
    "    \"shouldn't've\": \"should not have\",\n",
    "    \"so've\": \"so have\",\n",
    "    \"so's\": \"so is\",\n",
    "    \"that'd\": \"that would\",\n",
    "    \"that'd've\": \"that would have\",\n",
    "    \"that's\": \"that is\",\n",
    "    \"there'd\": \"there had\",\n",
    "    \"there'd've\": \"there would have\",\n",
    "    \"there's\": \"there is\",\n",
    "    \"they'd\": \"they would\",\n",
    "    \"they'd've\": \"they would have\",\n",
    "    \"they'll\": \"they will\",\n",
    "    \"they'll've\": \"they will have\",\n",
    "    \"they're\": \"they are\",\n",
    "    \"they've\": \"they have\",\n",
    "    \"to've\": \"to have\",\n",
    "    \"wasn't\": \"was not\",\n",
    "    \"we'd\": \"we had\",\n",
    "    \"we'd've\": \"we would have\",\n",
    "    \"we'll\": \"we will\",\n",
    "    \"we'll've\": \"we will have\",\n",
    "    \"we're\": \"we are\",\n",
    "    \"we've\": \"we have\",\n",
    "    \"weren't\": \"were not\",\n",
    "    \"what'll\": \"what will\",\n",
    "    \"what'll've\": \"what will have\",\n",
    "    \"what're\": \"what are\",\n",
    "    \"what's\": \"what is\",\n",
    "    \"what've\": \"what have\",\n",
    "    \"when's\": \"when is\",\n",
    "    \"when've\": \"when have\",\n",
    "    \"where'd\": \"where did\",\n",
    "    \"where's\": \"where is\",\n",
    "    \"where've\": \"where have\",\n",
    "    \"who'll\": \"who will\",\n",
    "    \"who'll've\": \"who will have\",\n",
    "    \"who's\": \"who is\",\n",
    "    \"who've\": \"who have\",\n",
    "    \"why's\": \"why is\",\n",
    "    \"why've\": \"why have\",\n",
    "    \"will've\": \"will have\",\n",
    "    \"won't\": \"will not\",\n",
    "    \"won't've\": \"will not have\",\n",
    "    \"would've\": \"would have\",\n",
    "    \"wouldn't\": \"would not\",\n",
    "    \"wouldn't've\": \"would not have\",\n",
    "    \"y'all\": \"you all\",\n",
    "    \"y'alls\": \"you alls\",\n",
    "    \"y'all'd\": \"you all would\",\n",
    "    \"y'all'd've\": \"you all would have\",\n",
    "    \"y'all're\": \"you all are\",\n",
    "    \"y'all've\": \"you all have\",\n",
    "    \"you'd\": \"you had\",\n",
    "    \"you'd've\": \"you would have\",\n",
    "    \"you'll\": \"you you will\",\n",
    "    \"you'll've\": \"you you will have\",\n",
    "    \"you're\": \"you are\",\n",
    "    \"you've\": \"you have\"\n",
    "}\n",
    "\n",
    "kmin, kmax = [5, 20+1]\n",
    "\n",
    "num_top_terms = 10"
   ]
  },
  {
   "cell_type": "code",
   "execution_count": 4,
   "id": "c9aacb34-861f-49ca-b210-9efe7c3d8959",
   "metadata": {},
   "outputs": [],
   "source": [
    "data_dir = os.path.join(PROJ_ROOT, 'data')\n",
    "processed_data_dir = os.path.join(data_dir, 'processed')\n",
    "\n",
    "# filepaths of cleaned and combined articles\n",
    "fpath_cleaned_combined = os.path.join(\n",
    "    processed_data_dir, \"guardian_articles_cleaned_combined.parquet\"\n",
    ")\n",
    "\n",
    "# Compiling the contraction dict\n",
    "c_re = re.compile('(%s)' % '|'.join(c_dict.keys()))\n",
    "\n",
    "# List of stop words\n",
    "add_stop = ['said', 'say', '...', 'like', 'cnn', 'ad']\n",
    "stop_words = ENGLISH_STOP_WORDS.union(add_stop)\n",
    "\n",
    "# List of punctuation\n",
    "punc = list(set(string.punctuation))"
   ]
  },
  {
   "cell_type": "code",
   "execution_count": 5,
   "id": "2b849892-da24-46e2-bfa9-6180f280426b",
   "metadata": {},
   "outputs": [],
   "source": [
    "def get_top_terms_weights_per_topic(H, terms, topic_index, num_top_terms):\n",
    "    \"\"\"get the top terms and their weights.\"\"\"\n",
    "    top_indices = np.argsort(H[topic_index,:])[::-1]\n",
    "    top_terms = []\n",
    "    top_weights = []\n",
    "    for term_index in top_indices[0:num_top_terms]:\n",
    "        top_terms.append(terms[term_index])\n",
    "        top_weights.append(H[topic_index,term_index])\n",
    "    df_top_terms_weights = (\n",
    "        pd.DataFrame(\n",
    "            zip(*[top_terms, top_weights]),\n",
    "            columns=['terms', 'weights'],\n",
    "        )\n",
    "        .assign(topic_num=topic_index+1)\n",
    "    )\n",
    "    return df_top_terms_weights\n",
    "\n",
    "\n",
    "def get_top_words_per_topic(row, n_top_words=10):\n",
    "    \"\"\"Get N top words in each topic.\"\"\"\n",
    "    return row.nlargest(n_top_words).index.tolist()\n",
    "\n",
    "\n",
    "# Splits words on white spaces (leaves contractions intact) and splits out\n",
    "# trailing punctuation\n",
    "def casual_tokenizer(text):\n",
    "    tokenizer = TweetTokenizer()\n",
    "    tokens = tokenizer.tokenize(text)\n",
    "    return tokens\n",
    "\n",
    "\n",
    "def expandContractions(text, c_re=c_re):\n",
    "    def replace(match):\n",
    "        return c_dict[match.group(0)]\n",
    "    return c_re.sub(replace, text)\n",
    "\n",
    "\n",
    "def process_text(text):\n",
    "    text = casual_tokenizer(text)\n",
    "    text = [each.lower() for each in text]\n",
    "    text = [re.sub('[0-9]+', '', each) for each in text]\n",
    "    text = [expandContractions(each, c_re=c_re) for each in text]\n",
    "    text = [SnowballStemmer('english').stem(each) for each in text]\n",
    "    text = [w for w in text if w not in punc]\n",
    "    text = [w for w in text if w not in stop_words]\n",
    "    text = [each for each in text if len(each) > 1]\n",
    "    text = [each for each in text if ' ' not in each]\n",
    "    return text\n",
    "\n",
    "\n",
    "def whitespace_tokenizer(text): \n",
    "    pattern = r\"(?u)\\b\\w\\w+\\b\" \n",
    "    tokenizer_regex = RegexpTokenizer(pattern)\n",
    "    tokens = tokenizer_regex.tokenize(text)\n",
    "    return tokens"
   ]
  },
  {
   "cell_type": "markdown",
   "id": "af355180-7879-4910-915d-1f6ec4df5013",
   "metadata": {},
   "source": [
    "## Load Data"
   ]
  },
  {
   "cell_type": "code",
   "execution_count": 6,
   "id": "57c2fc64-b024-401e-8b08-f084869e14a5",
   "metadata": {},
   "outputs": [],
   "source": [
    "df = pd.read_parquet(fpath_cleaned_combined)"
   ]
  },
  {
   "cell_type": "markdown",
   "id": "42a53426-a194-4287-9280-fc6a03c8cdcb",
   "metadata": {},
   "source": [
    "Extract cleaned texts"
   ]
  },
  {
   "cell_type": "code",
   "execution_count": 7,
   "id": "a012a297-184d-4aa2-b278-86474691d7b1",
   "metadata": {},
   "outputs": [],
   "source": [
    "raw_documents = df['text_cleaned']"
   ]
  },
  {
   "cell_type": "markdown",
   "id": "a6cc6f65-4f9e-4258-a93b-6be2662aa6a9",
   "metadata": {},
   "source": [
    "## Pre-Process Text Data"
   ]
  },
  {
   "cell_type": "markdown",
   "id": "954d9e99-3bd6-4bc6-9176-e854d5a4b00e",
   "metadata": {},
   "source": [
    "Now, we'll perform the following processing actions on each news article's text\n",
    "\n",
    "1. [tokenize](https://en.wikipedia.org/wiki/Lexical_analysis#Tokenization) the text of the article, using the `NLTK package's TweetTokenizer`(https://www.nltk.org/api/nltk.tokenize.html#module-nltk.tokenize.casual)\n",
    "2. clean the text of the articles\n",
    "   - convert to lowercase\n",
    "   - remove numbers\n",
    "   - [expand contractions](https://www.kdnuggets.com/2018/08/practitioners-guide-processing-understanding-text-2.html) ([code](https://grammar.yourdictionary.com/style-and-usage/using-contractions.html))\n",
    "   - ([snowball](https://en.wikipedia.org/wiki/Snowball_(programming_language))) [stemming](https://en.wikipedia.org/wiki/Stemming)\n",
    "   - remove [punctuation](https://docs.python.org/3/library/string.html#string.punctuation)\n",
    "   - remove [stopwords](https://en.wikipedia.org/wiki/Stop_word)\n",
    "   - remove any standalone single character\n",
    "   - remove [whitespaces](https://en.wikipedia.org/wiki/Whitespace_character)"
   ]
  },
  {
   "cell_type": "code",
   "execution_count": 8,
   "id": "33eac2d5-e21b-492c-9464-622c9f2a89da",
   "metadata": {},
   "outputs": [
    {
     "name": "stdout",
     "output_type": "stream",
     "text": [
      "CPU times: user 3.4 s, sys: 5.52 ms, total: 3.41 s\n",
      "Wall time: 3.41 s\n"
     ]
    }
   ],
   "source": [
    "%%time\n",
    "proc_documents = raw_documents.apply(process_text)"
   ]
  },
  {
   "cell_type": "markdown",
   "id": "b8c63700-7d18-4777-8e87-b64c23306f0e",
   "metadata": {},
   "source": [
    "### Use Gensim to perform Bag-of-Words transformation"
   ]
  },
  {
   "cell_type": "markdown",
   "id": "f5c57977-b04e-4c73-8b58-c04b1ec3e921",
   "metadata": {},
   "source": [
    "Now, we'll create a corpus comprising an assigned ID and corresponding count frequency of words from the tokens created above. This is Gensim's document conversion into a [bag-of-words](https://en.wikipedia.org/wiki/Bag-of-words_model) format. It returns a list of tuples comprising token identifier and the corresponding count (frequency)."
   ]
  },
  {
   "cell_type": "code",
   "execution_count": 9,
   "id": "11c518c8-532e-4c70-9edb-d768c771f887",
   "metadata": {},
   "outputs": [
    {
     "name": "stdout",
     "output_type": "stream",
     "text": [
      "CPU times: user 74 ms, sys: 16 μs, total: 74.1 ms\n",
      "Wall time: 73.4 ms\n"
     ]
    }
   ],
   "source": [
    "%%time\n",
    "dictionary = Dictionary(pd.Series(proc_documents))"
   ]
  },
  {
   "cell_type": "markdown",
   "id": "b9cb1a46-6172-45f6-83e2-12d36bda4e87",
   "metadata": {},
   "source": [
    "Filter out extremes to limit the number of features"
   ]
  },
  {
   "cell_type": "code",
   "execution_count": 10,
   "id": "18c7ca3c-4680-4bc1-a49d-2e12509c1116",
   "metadata": {},
   "outputs": [],
   "source": [
    "dictionary.filter_extremes(\n",
    "    # keep tokens contained in at least this many documents\n",
    "    no_below=3,\n",
    "    # keep tokens contained in no more than this fraction of documents\n",
    "    no_above=0.85,\n",
    "    # keep the N most frequently occuring tokens\n",
    "    keep_n=5000,\n",
    ")"
   ]
  },
  {
   "cell_type": "markdown",
   "id": "c5a89f91-2e4f-4e30-96eb-1344cd67c50d",
   "metadata": {},
   "source": [
    "Create the bag-of-words format (list of (`token_id`, `token_count`) combinations, or the term-document frequency) for corpus"
   ]
  },
  {
   "cell_type": "code",
   "execution_count": 11,
   "id": "485ac41f-c708-40b3-87d0-b0db894f2b68",
   "metadata": {},
   "outputs": [
    {
     "name": "stdout",
     "output_type": "stream",
     "text": [
      "CPU times: user 46.6 ms, sys: 111 μs, total: 46.7 ms\n",
      "Wall time: 46.4 ms\n"
     ]
    }
   ],
   "source": [
    "%%time\n",
    "corpus = [dictionary.doc2bow(text) for text in proc_documents]"
   ]
  },
  {
   "cell_type": "markdown",
   "id": "f1633387-8314-4c87-bf34-87f5493b016f",
   "metadata": {},
   "source": [
    "## Use NMF and Topic Coherence to Get the Optimal Number of Topics"
   ]
  },
  {
   "cell_type": "markdown",
   "id": "6f3680be-c6fc-4771-abab-6e19d1887caa",
   "metadata": {},
   "source": [
    "We'll compute the coherence score for our specified list of number of topics to be compared. A [topic coherence](https://radimrehurek.com/gensim/models/coherencemodel.html) `Class`, from the [`Gensim library`](https://pypi.org/project/gensim/), is used to evaluate topics found using an [`NMF`](https://en.wikipedia.org/wiki/Non-negative_matrix_factorization) model."
   ]
  },
  {
   "cell_type": "markdown",
   "id": "812109f5-b846-438f-ad90-a2ac456b14fc",
   "metadata": {},
   "source": [
    "Create a list of the topic numbers to be tried"
   ]
  },
  {
   "cell_type": "code",
   "execution_count": 12,
   "id": "d4a03b5a-d541-4888-9d5b-75b9e10bb9f9",
   "metadata": {},
   "outputs": [],
   "source": [
    "topic_nums = list(np.arange(kmin, kmax+1))"
   ]
  },
  {
   "cell_type": "markdown",
   "id": "055dd439-87ce-4cff-b457-e349a46500ed",
   "metadata": {},
   "source": [
    "Next, we'll use [Gensim's `CoherenceModel`](https://tedboy.github.io/nlps/generated/generated/gensim.models.CoherenceModel.html#gensim-models-coherencemodel) to score the `NMF` approximations of the processed texts using the [topic coherence](https://stats.stackexchange.com/questions/406216/what-is-the-formula-for-c-v-coherence) metric. The coherence model's reported coherence score will be computed as the number of topics used to train an `NMF` model is varied. The higher the coherence for the selected number of topics the better. This way, we can select the number of topics in an NMF model that returns the highest coherence score."
   ]
  },
  {
   "cell_type": "markdown",
   "id": "0664050e-3228-4ccc-86bc-1fab3e329a10",
   "metadata": {},
   "source": [
    "Run the `NMF` model and calculate the coherence score of the specified number of topics"
   ]
  },
  {
   "cell_type": "code",
   "execution_count": 13,
   "id": "72769ce4-a3ac-4078-868b-95f624313986",
   "metadata": {},
   "outputs": [
    {
     "name": "stdout",
     "output_type": "stream",
     "text": [
      "5: 0.4445 in 1.48s\n",
      "6: 0.4582 in 1.63s\n",
      "7: 0.4812 in 1.71s\n",
      "8: 0.4629 in 1.90s\n",
      "9: 0.4445 in 2.18s\n",
      "10: 0.4740 in 2.43s\n",
      "11: 0.4523 in 2.43s\n",
      "12: 0.4677 in 2.51s\n",
      "13: 0.4599 in 2.69s\n",
      "14: 0.4388 in 3.90s\n",
      "15: 0.4677 in 3.69s\n",
      "16: 0.4705 in 3.50s\n",
      "17: 0.4328 in 2.69s\n",
      "18: 0.4355 in 3.06s\n",
      "19: 0.4444 in 2.95s\n",
      "20: 0.4532 in 3.17s\n",
      "21: 0.4403 in 3.43s\n",
      "CPU times: user 43.6 s, sys: 2min 23s, total: 3min 7s\n",
      "Wall time: 45.4 s\n"
     ]
    }
   ],
   "source": [
    "%%time\n",
    "coherence_scores = []\n",
    "for num in topic_nums:\n",
    "    with Timer() as t:\n",
    "        # define Gensim's NMF model\n",
    "        nmf = Nmf(\n",
    "            corpus=corpus,\n",
    "            num_topics=num,\n",
    "            id2word=dictionary,\n",
    "            chunksize=2000,\n",
    "            passes=5,\n",
    "            kappa=.1,\n",
    "            minimum_probability=0.01,\n",
    "            w_max_iter=300,\n",
    "            w_stop_condition=0.0001,\n",
    "            h_max_iter=100,\n",
    "            h_stop_condition=0.001,\n",
    "            eval_every=10,\n",
    "            normalize=True,\n",
    "            random_state=42\n",
    "        )\n",
    "        # Run the coherence model to get the coherence score\n",
    "        cm = CoherenceModel(\n",
    "            model=nmf,\n",
    "            texts=proc_documents,\n",
    "            dictionary=dictionary,\n",
    "            coherence='c_v'\n",
    "        )\n",
    "        # get the topic coherence score\n",
    "        coh_score = cm.get_coherence()\n",
    "    print(f\"{num}: {coh_score:.4f} in {t.elapsed:.2f}s\")\n",
    "    coherence_scores.append(coh_score)"
   ]
  },
  {
   "cell_type": "markdown",
   "id": "596e7e25-5fd4-42a4-a5b9-0151d7970c3d",
   "metadata": {},
   "source": [
    "Store the coherence scores in a `DataFrame`"
   ]
  },
  {
   "cell_type": "code",
   "execution_count": 14,
   "id": "6d7381a4-6714-4f4a-9098-1bb839cdeb1f",
   "metadata": {},
   "outputs": [],
   "source": [
    "df_coherences = pd.DataFrame(\n",
    "    zip(*[coherence_scores, range(kmin, kmax+1)]),\n",
    "    columns=['coherence_score', 'num_topics']\n",
    ")"
   ]
  },
  {
   "cell_type": "markdown",
   "id": "d016078d-52ce-481e-b11f-6b33dd9a16e0",
   "metadata": {},
   "source": [
    "Plot the coherence scores for each number of topics that was tried above"
   ]
  },
  {
   "cell_type": "code",
   "execution_count": 15,
   "id": "b7741c1e-09ad-4a1f-872f-b403cee8919f",
   "metadata": {},
   "outputs": [
    {
     "data": {
      "image/png": "[encoded data removed]",
      "text/plain": [
       "<Figure size 1200x400 with 1 Axes>"
      ]
     },
     "metadata": {},
     "output_type": "display_data"
    }
   ],
   "source": [
    "fig, ax = plt.subplots(figsize=(12, 4))\n",
    "# create scatter plot\n",
    "_ = df_coherences.plot(\n",
    "    x='num_topics',\n",
    "    y='coherence_score',\n",
    "    kind='scatter',\n",
    "    s=120,\n",
    "    c='teal',\n",
    "    grid=False,\n",
    "    legend=False,\n",
    "    ax=ax,\n",
    ")\n",
    "# create line plot\n",
    "_ = df_coherences.plot.line(\n",
    "    x='num_topics',\n",
    "    y='coherence_score',\n",
    "    ax=ax,\n",
    "    c='teal',\n",
    "    lw=2,\n",
    "    legend=False,\n",
    "    style='--',\n",
    ")\n",
    "# get max score\n",
    "ymax = max(coherence_scores)\n",
    "xpos = coherence_scores.index(ymax)\n",
    "# get number of topics with max score\n",
    "best_k = topic_nums[xpos]\n",
    "_ = plt.annotate(\n",
    "    text=f\"k={best_k}\",\n",
    "    xy=(best_k, ymax),\n",
    "    xytext=(best_k, ymax),\n",
    "    textcoords=\"offset points\",\n",
    "    fontsize=16,\n",
    "    color='red',\n",
    ")\n",
    "# formatting\n",
    "ax.xaxis.set_ticks_position('none')\n",
    "ax.yaxis.set_ticks_position('none')\n",
    "ax.spines[['right', 'top', 'left', 'bottom']].set_visible(False)\n",
    "ax.tick_params(axis='both', which='major', labelsize=14)\n",
    "ax.tick_params(axis='both', colors='grey')\n",
    "# x-axis label\n",
    "_ = ax.set_xlabel('Number of Topics', fontsize=14, color='grey')\n",
    "# y-axis label\n",
    "_ = ax.set_ylabel('Coherence Score', fontsize=14, color='grey')\n",
    "# title\n",
    "_ = ax.set_title(\n",
    "    f\"Coherence Scores Indicate {best_k} Topics is Optimal\",\n",
    "    loc='left',\n",
    "    fontsize=16,\n",
    ")"
   ]
  },
  {
   "cell_type": "markdown",
   "id": "033370e4-bfe4-455a-a382-fbac4c8c123d",
   "metadata": {},
   "source": [
    "**Observations**\n",
    "\n",
    "1. This plot suggests that the optimal number of topics is 7."
   ]
  },
  {
   "cell_type": "markdown",
   "id": "737f9d0f-b492-473e-9124-9e648398eaf2",
   "metadata": {},
   "source": [
    "We can also extract the optimal number of topics using the `DataFrame`"
   ]
  },
  {
   "cell_type": "code",
   "execution_count": 16,
   "id": "79fab6b0-f75b-4348-8f97-5109fc6fabd9",
   "metadata": {},
   "outputs": [
    {
     "name": "stdout",
     "output_type": "stream",
     "text": [
      "The best number of topics is 7\n"
     ]
    }
   ],
   "source": [
    "k_best = df_coherences.nlargest(1, 'coherence_score')['num_topics'].squeeze()\n",
    "print(f\"The best number of topics is {k_best}\")"
   ]
  },
  {
   "cell_type": "markdown",
   "id": "ddec5f10-d632-4cbe-adf0-838c2e76b636",
   "metadata": {},
   "source": [
    "**Notes**\n",
    "\n",
    "1. Although the optimal number of topics can be determined programmatically from the `DataFrame`, it is useful to plot the coherence scores in order to check for other candidates that are close or tied. Here, the manual approach from the `DataFrame` and the value from the chart agree so we will use 7 topics."
   ]
  },
  {
   "cell_type": "markdown",
   "id": "e2cb013f-fc2e-4655-9d43-9ae3dbe689e8",
   "metadata": {},
   "source": [
    "## NMF with Optimal Number of Topics"
   ]
  },
  {
   "cell_type": "markdown",
   "id": "ea492cb1-fd3b-402a-bff9-a0a4dfed9cbc",
   "metadata": {},
   "source": [
    "### Train TFIDF-NMF `Pipeline`"
   ]
  },
  {
   "cell_type": "code",
   "execution_count": 17,
   "id": "34866670-7ab9-41b7-a452-5327c328f487",
   "metadata": {},
   "outputs": [],
   "source": [
    "def train_nmf_with_best_num_topics(\n",
    "    k: int, texts: pd.Series\n",
    ") -> List[np.array]:\n",
    "    \"\"\".\"\"\"\n",
    "    vectorizer = TfidfVectorizer(\n",
    "        tokenizer=None,  # default is None\n",
    "        stop_words=None,  # default is None\n",
    "        lowercase=True,  # default is True\n",
    "        ngram_range=(1, 2),  # default is (1, 2)\n",
    "        max_df=0.85,  # default is 1.0\n",
    "        min_df=3,  # default is 1\n",
    "        max_features=5000,  # default is None\n",
    "        preprocessor=\" \".join,  # default is None\n",
    "        binary=False,  # default is False\n",
    "        strip_accents=None,  # default is None\n",
    "        # token_pattern='(?u)\\\\b\\\\w\\\\w+\\\\b',  # default is '(?u)\\\\b\\\\w\\\\w+\\\\b'\n",
    "    )\n",
    "    sk_nmf = NMF(\n",
    "        n_components=k,\n",
    "        solver=\"cd\",  # default is \"cd\"\n",
    "        init=\"nndsvd\",  # default is None, \"nnsvd\" = Nonnegative Double Singular Value Decomposition\n",
    "        max_iter=500,  # default is 200\n",
    "        l1_ratio=0.0,  # default is 0.0\n",
    "        alpha_W=0.0,  # default is 0.0\n",
    "        tol=0.0001,  # default is 0.0001\n",
    "        random_state=42,\n",
    "    )\n",
    "    pipe = Pipeline([(\"vectorizer\", vectorizer), (\"nmf\", sk_nmf)])\n",
    "\n",
    "    # get document-term matrix\n",
    "    # # doc_topic = pipe.fit_transform(texts)\n",
    "    _ = pipe.fit(texts)\n",
    "    A = pipe.named_steps[\"vectorizer\"].transform(texts)\n",
    "\n",
    "    # get the factorization matrix, which give the document membership\n",
    "    # weights relative to each of the k topics\n",
    "    W = pipe.named_steps[\"nmf\"].components_\n",
    "\n",
    "    # get the term weights relative to each of the k topics\n",
    "    H = pipe.named_steps[\"nmf\"].transform(A)\n",
    "\n",
    "    # Get row-wise (topic-wise) weights\n",
    "    topic_words_weights = pd.DataFrame(\n",
    "        W,\n",
    "        index=[str(k) for k in range(k)],\n",
    "        columns=pipe.named_steps[\"vectorizer\"].get_feature_names_out(),\n",
    "    )\n",
    "    return [A, H, W, topic_words_weights]"
   ]
  },
  {
   "cell_type": "markdown",
   "id": "650b8b90-f7e9-441a-bcc8-377d8631e086",
   "metadata": {},
   "source": [
    "Train NLP pipeline with the best number of topics determined above"
   ]
  },
  {
   "cell_type": "code",
   "execution_count": 18,
   "id": "3985ea9f-1d25-4238-9f43-5b530104f5be",
   "metadata": {},
   "outputs": [
    {
     "name": "stdout",
     "output_type": "stream",
     "text": [
      "CPU times: user 1.59 s, sys: 1.31 s, total: 2.9 s\n",
      "Wall time: 756 ms\n"
     ]
    }
   ],
   "source": [
    "%%time\n",
    "A, H, W, topic_words_weights = train_nmf_with_best_num_topics(\n",
    "    k_best, proc_documents\n",
    ")"
   ]
  },
  {
   "cell_type": "markdown",
   "id": "8529f6fe-2709-42e1-8fc9-77a13d79aaf9",
   "metadata": {},
   "source": [
    "### Get Trained Model Outputs"
   ]
  },
  {
   "cell_type": "markdown",
   "id": "7e477f69-6187-4060-b999-7162ddd3bc51",
   "metadata": {},
   "source": [
    "Get top 10 weights by topic"
   ]
  },
  {
   "cell_type": "code",
   "execution_count": 19,
   "id": "2cee0625-6ad9-430b-b530-218ee94d4907",
   "metadata": {},
   "outputs": [
    {
     "data": {
      "text/html": [
       "<div>\n",
       "<style scoped>\n",
       "    .dataframe tbody tr th:only-of-type {\n",
       "        vertical-align: middle;\n",
       "    }\n",
       "\n",
       "    .dataframe tbody tr th {\n",
       "        vertical-align: top;\n",
       "    }\n",
       "\n",
       "    .dataframe thead th {\n",
       "        text-align: right;\n",
       "    }\n",
       "</style>\n",
       "<table border=\"1\" class=\"dataframe\">\n",
       "  <thead>\n",
       "    <tr style=\"text-align: right;\">\n",
       "      <th></th>\n",
       "      <th>topic</th>\n",
       "      <th>0</th>\n",
       "      <th>1</th>\n",
       "      <th>2</th>\n",
       "      <th>3</th>\n",
       "      <th>4</th>\n",
       "      <th>5</th>\n",
       "      <th>6</th>\n",
       "      <th>7</th>\n",
       "      <th>8</th>\n",
       "      <th>9</th>\n",
       "      <th>topic_num</th>\n",
       "    </tr>\n",
       "  </thead>\n",
       "  <tbody>\n",
       "    <tr>\n",
       "      <th>0</th>\n",
       "      <td>0</td>\n",
       "      <td>fish</td>\n",
       "      <td>sea</td>\n",
       "      <td>ocean</td>\n",
       "      <td>plastic</td>\n",
       "      <td>protect</td>\n",
       "      <td>island</td>\n",
       "      <td>photograph</td>\n",
       "      <td>speci</td>\n",
       "      <td>area</td>\n",
       "      <td>deep</td>\n",
       "      <td>0</td>\n",
       "    </tr>\n",
       "    <tr>\n",
       "      <th>1</th>\n",
       "      <td>1</td>\n",
       "      <td>unesco</td>\n",
       "      <td>world heritag</td>\n",
       "      <td>list</td>\n",
       "      <td>heritag</td>\n",
       "      <td>committe</td>\n",
       "      <td>danger</td>\n",
       "      <td>australia</td>\n",
       "      <td>govern</td>\n",
       "      <td>recommend</td>\n",
       "      <td>world</td>\n",
       "      <td>1</td>\n",
       "    </tr>\n",
       "    <tr>\n",
       "      <th>2</th>\n",
       "      <td>2</td>\n",
       "      <td>bleach</td>\n",
       "      <td>event</td>\n",
       "      <td>stress</td>\n",
       "      <td>heat</td>\n",
       "      <td>bleach event</td>\n",
       "      <td>barrier reef</td>\n",
       "      <td>great barrier</td>\n",
       "      <td>survey</td>\n",
       "      <td>coral bleach</td>\n",
       "      <td>heat stress</td>\n",
       "      <td>2</td>\n",
       "    </tr>\n",
       "    <tr>\n",
       "      <th>3</th>\n",
       "      <td>3</td>\n",
       "      <td>ocean</td>\n",
       "      <td>heat</td>\n",
       "      <td>temperatur</td>\n",
       "      <td>warm</td>\n",
       "      <td>climat</td>\n",
       "      <td>heatwav</td>\n",
       "      <td>record</td>\n",
       "      <td>newslett</td>\n",
       "      <td>sea</td>\n",
       "      <td>global</td>\n",
       "      <td>3</td>\n",
       "    </tr>\n",
       "    <tr>\n",
       "      <th>4</th>\n",
       "      <td>4</td>\n",
       "      <td>qualiti</td>\n",
       "      <td>water qualiti</td>\n",
       "      <td>govern</td>\n",
       "      <td>regul</td>\n",
       "      <td>farmer</td>\n",
       "      <td>scienc</td>\n",
       "      <td>report</td>\n",
       "      <td>barrier reef</td>\n",
       "      <td>great barrier</td>\n",
       "      <td>barrier</td>\n",
       "      <td>4</td>\n",
       "    </tr>\n",
       "    <tr>\n",
       "      <th>5</th>\n",
       "      <td>5</td>\n",
       "      <td>shark</td>\n",
       "      <td>reef shark</td>\n",
       "      <td>fish</td>\n",
       "      <td>studi</td>\n",
       "      <td>egg</td>\n",
       "      <td>speci</td>\n",
       "      <td>egg case</td>\n",
       "      <td>number</td>\n",
       "      <td>rummer</td>\n",
       "      <td>ray</td>\n",
       "      <td>5</td>\n",
       "    </tr>\n",
       "    <tr>\n",
       "      <th>6</th>\n",
       "      <td>6</td>\n",
       "      <td>studi</td>\n",
       "      <td>barrier reef</td>\n",
       "      <td>barrier</td>\n",
       "      <td>great barrier</td>\n",
       "      <td>great</td>\n",
       "      <td>coral reef</td>\n",
       "      <td>climat</td>\n",
       "      <td>larva</td>\n",
       "      <td>cloud</td>\n",
       "      <td>research</td>\n",
       "      <td>6</td>\n",
       "    </tr>\n",
       "  </tbody>\n",
       "</table>\n",
       "</div>"
      ],
      "text/plain": [
       "   topic        0              1           2              3             4  \\\n",
       "0      0     fish            sea       ocean        plastic       protect   \n",
       "1      1   unesco  world heritag        list        heritag      committe   \n",
       "2      2   bleach          event      stress           heat  bleach event   \n",
       "3      3    ocean           heat  temperatur           warm        climat   \n",
       "4      4  qualiti  water qualiti      govern          regul        farmer   \n",
       "5      5    shark     reef shark        fish          studi           egg   \n",
       "6      6    studi   barrier reef     barrier  great barrier         great   \n",
       "\n",
       "              5              6             7              8            9  \\\n",
       "0        island     photograph         speci           area         deep   \n",
       "1        danger      australia        govern      recommend        world   \n",
       "2  barrier reef  great barrier        survey   coral bleach  heat stress   \n",
       "3       heatwav         record      newslett            sea       global   \n",
       "4        scienc         report  barrier reef  great barrier      barrier   \n",
       "5         speci       egg case        number         rummer          ray   \n",
       "6    coral reef         climat         larva          cloud     research   \n",
       "\n",
       "   topic_num  \n",
       "0          0  \n",
       "1          1  \n",
       "2          2  \n",
       "3          3  \n",
       "4          4  \n",
       "5          5  \n",
       "6          6  "
      ]
     },
     "execution_count": 19,
     "metadata": {},
     "output_type": "execute_result"
    }
   ],
   "source": [
    "df_topic_words = (\n",
    "    pd.DataFrame(\n",
    "        topic_words_weights.apply(\n",
    "            lambda x: get_top_words_per_topic(x, num_top_terms), axis=1\n",
    "        ).tolist(),\n",
    "        index=topic_words_weights.index,\n",
    "    )\n",
    "    .reset_index()\n",
    "    .rename(columns={\"index\": \"topic\"})\n",
    "    .assign(topic_num=range(k_best))\n",
    ").astype({\"topic\": int})\n",
    "df_topic_words"
   ]
  },
  {
   "cell_type": "markdown",
   "id": "c83626d6-85ac-4d58-b41c-dedd7c9fcb40",
   "metadata": {},
   "source": [
    "**Notes**\n",
    "\n",
    "1. The output has one row per topic.\n",
    "2. The numeric column names correspond to the topic indices."
   ]
  },
  {
   "cell_type": "markdown",
   "id": "a24e8064-c6b7-4755-b5bf-b4bc7a8c02cd",
   "metadata": {},
   "source": [
    "Convert document-topic matrix into DataFrame and append url column, to get the most popular topic (highest topic weight) per document"
   ]
  },
  {
   "cell_type": "code",
   "execution_count": 20,
   "id": "0140cf0b-38bf-4960-b0b1-1c575388cdf0",
   "metadata": {},
   "outputs": [
    {
     "data": {
      "text/html": [
       "<div>\n",
       "<style scoped>\n",
       "    .dataframe tbody tr th:only-of-type {\n",
       "        vertical-align: middle;\n",
       "    }\n",
       "\n",
       "    .dataframe tbody tr th {\n",
       "        vertical-align: top;\n",
       "    }\n",
       "\n",
       "    .dataframe thead th {\n",
       "        text-align: right;\n",
       "    }\n",
       "</style>\n",
       "<table border=\"1\" class=\"dataframe\">\n",
       "  <thead>\n",
       "    <tr style=\"text-align: right;\">\n",
       "      <th></th>\n",
       "      <th>topic_num</th>\n",
       "      <th>url</th>\n",
       "    </tr>\n",
       "  </thead>\n",
       "  <tbody>\n",
       "    <tr>\n",
       "      <th>0</th>\n",
       "      <td>3</td>\n",
       "      <td>https://www.theguardian.com/environment/climat...</td>\n",
       "    </tr>\n",
       "    <tr>\n",
       "      <th>260</th>\n",
       "      <td>6</td>\n",
       "      <td>https://www.theguardian.com/environment/2024/o...</td>\n",
       "    </tr>\n",
       "  </tbody>\n",
       "</table>\n",
       "</div>"
      ],
      "text/plain": [
       "     topic_num                                                url\n",
       "0            3  https://www.theguardian.com/environment/climat...\n",
       "260          6  https://www.theguardian.com/environment/2024/o..."
      ]
     },
     "metadata": {},
     "output_type": "display_data"
    }
   ],
   "source": [
    "df_doc_topic = (\n",
    "    pd.DataFrame(H)\n",
    "    .idxmax(axis=1)\n",
    "    .rename(\"topic_num\")\n",
    "    .to_frame()\n",
    "    .assign(url=df[\"url\"].tolist())\n",
    "    .astype({\"topic_num\": pd.Int64Dtype()})\n",
    ")\n",
    "with pd.option_context('display.max_columns', None):\n",
    "    display(\n",
    "        pd.concat(\n",
    "            [df_doc_topic.head(1), df_doc_topic.tail(1)]\n",
    "        )\n",
    "    )"
   ]
  },
  {
   "cell_type": "markdown",
   "id": "23798716-6435-468e-b443-ed83891490cf",
   "metadata": {},
   "source": [
    "Merge the document-topic `DataFrame` with top 10 terms by topic to get the most popular topic and top 10 terms for each document"
   ]
  },
  {
   "cell_type": "code",
   "execution_count": 21,
   "id": "1795a41e-1f60-42f5-af64-25f35fd46c27",
   "metadata": {},
   "outputs": [
    {
     "data": {
      "text/html": [
       "<div>\n",
       "<style scoped>\n",
       "    .dataframe tbody tr th:only-of-type {\n",
       "        vertical-align: middle;\n",
       "    }\n",
       "\n",
       "    .dataframe tbody tr th {\n",
       "        vertical-align: top;\n",
       "    }\n",
       "\n",
       "    .dataframe thead th {\n",
       "        text-align: right;\n",
       "    }\n",
       "</style>\n",
       "<table border=\"1\" class=\"dataframe\">\n",
       "  <thead>\n",
       "    <tr style=\"text-align: right;\">\n",
       "      <th></th>\n",
       "      <th>topic_num</th>\n",
       "      <th>url</th>\n",
       "      <th>topic</th>\n",
       "      <th>0</th>\n",
       "      <th>1</th>\n",
       "      <th>2</th>\n",
       "      <th>3</th>\n",
       "      <th>4</th>\n",
       "      <th>5</th>\n",
       "      <th>6</th>\n",
       "      <th>7</th>\n",
       "      <th>8</th>\n",
       "      <th>9</th>\n",
       "    </tr>\n",
       "  </thead>\n",
       "  <tbody>\n",
       "    <tr>\n",
       "      <th>0</th>\n",
       "      <td>3</td>\n",
       "      <td>https://www.theguardian.com/environment/climat...</td>\n",
       "      <td>3</td>\n",
       "      <td>ocean</td>\n",
       "      <td>heat</td>\n",
       "      <td>temperatur</td>\n",
       "      <td>warm</td>\n",
       "      <td>climat</td>\n",
       "      <td>heatwav</td>\n",
       "      <td>record</td>\n",
       "      <td>newslett</td>\n",
       "      <td>sea</td>\n",
       "      <td>global</td>\n",
       "    </tr>\n",
       "    <tr>\n",
       "      <th>260</th>\n",
       "      <td>6</td>\n",
       "      <td>https://www.theguardian.com/environment/2024/o...</td>\n",
       "      <td>6</td>\n",
       "      <td>studi</td>\n",
       "      <td>barrier reef</td>\n",
       "      <td>barrier</td>\n",
       "      <td>great barrier</td>\n",
       "      <td>great</td>\n",
       "      <td>coral reef</td>\n",
       "      <td>climat</td>\n",
       "      <td>larva</td>\n",
       "      <td>cloud</td>\n",
       "      <td>research</td>\n",
       "    </tr>\n",
       "  </tbody>\n",
       "</table>\n",
       "</div>"
      ],
      "text/plain": [
       "     topic_num                                                url  topic  \\\n",
       "0            3  https://www.theguardian.com/environment/climat...      3   \n",
       "260          6  https://www.theguardian.com/environment/2024/o...      6   \n",
       "\n",
       "         0             1           2              3       4           5  \\\n",
       "0    ocean          heat  temperatur           warm  climat     heatwav   \n",
       "260  studi  barrier reef     barrier  great barrier   great  coral reef   \n",
       "\n",
       "          6         7      8         9  \n",
       "0    record  newslett    sea    global  \n",
       "260  climat     larva  cloud  research  "
      ]
     },
     "metadata": {},
     "output_type": "display_data"
    }
   ],
   "source": [
    "df_doc_topic_words = (\n",
    "    df_doc_topic\n",
    "    .merge(df_topic_words, on=\"topic_num\", how=\"left\")\n",
    "    .astype({\"topic_num\": pd.Int64Dtype()})\n",
    ")\n",
    "with pd.option_context('display.max_columns', None):\n",
    "    display(\n",
    "        pd.concat(\n",
    "            [df_doc_topic_words.head(1), df_doc_topic_words.tail(1)]\n",
    "        )\n",
    "    )"
   ]
  },
  {
   "cell_type": "markdown",
   "id": "889afae2-7c55-4cd6-b968-b9f8f14fa0a4",
   "metadata": {},
   "source": [
    "Calculate residual for each document. This is the difference between the true text and the NMF approximations. Here, we'll use the [Frobenius Norm](https://numpy.org/doc/stable/reference/generated/numpy.linalg.norm.html#numpy.linalg.norm) to examine how well the topics found represent the news article text - this will be a residual between the modeled and true document-term matrix.\n",
    "\n",
    "This residual is calculated below"
   ]
  },
  {
   "cell_type": "code",
   "execution_count": 22,
   "id": "7a9bc640-feac-49c7-a11c-4b7e71eb4526",
   "metadata": {},
   "outputs": [],
   "source": [
    "r = np.zeros(A.shape[0])\n",
    "for row in range(A.shape[0]):\n",
    "    r[row] = np.linalg.norm(A[row, :] - H[row, :].dot(W), \"fro\")\n",
    "# data_doc_topic_words[\"topic_num_resid\"] = r"
   ]
  },
  {
   "cell_type": "markdown",
   "id": "500b1811-9b6f-47fc-858d-75d13cda11b8",
   "metadata": {},
   "source": [
    "Merge raw data (`df`) with the document-topic `DataFrame` containing top 10 terms (`df_doc_topic_words`) and append the above residual column"
   ]
  },
  {
   "cell_type": "code",
   "execution_count": 23,
   "id": "8ab99e6a-b264-4469-98fa-64ae864d8602",
   "metadata": {},
   "outputs": [
    {
     "data": {
      "text/html": [
       "<div>\n",
       "<style scoped>\n",
       "    .dataframe tbody tr th:only-of-type {\n",
       "        vertical-align: middle;\n",
       "    }\n",
       "\n",
       "    .dataframe tbody tr th {\n",
       "        vertical-align: top;\n",
       "    }\n",
       "\n",
       "    .dataframe thead th {\n",
       "        text-align: right;\n",
       "    }\n",
       "</style>\n",
       "<table border=\"1\" class=\"dataframe\">\n",
       "  <thead>\n",
       "    <tr style=\"text-align: right;\">\n",
       "      <th></th>\n",
       "      <th>url_num</th>\n",
       "      <th>url_name</th>\n",
       "      <th>url</th>\n",
       "      <th>text</th>\n",
       "      <th>char_count</th>\n",
       "      <th>sentence_count_raw</th>\n",
       "      <th>token_count</th>\n",
       "      <th>text_cleaned</th>\n",
       "      <th>type</th>\n",
       "      <th>webPublicationDate</th>\n",
       "      <th>year</th>\n",
       "      <th>webTitle</th>\n",
       "      <th>page</th>\n",
       "      <th>topic_num</th>\n",
       "      <th>topic</th>\n",
       "      <th>term_0</th>\n",
       "      <th>term_1</th>\n",
       "      <th>term_2</th>\n",
       "      <th>term_3</th>\n",
       "      <th>term_4</th>\n",
       "      <th>term_5</th>\n",
       "      <th>term_6</th>\n",
       "      <th>term_7</th>\n",
       "      <th>term_8</th>\n",
       "      <th>term_9</th>\n",
       "      <th>topic_num_resid</th>\n",
       "    </tr>\n",
       "  </thead>\n",
       "  <tbody>\n",
       "    <tr>\n",
       "      <th>0</th>\n",
       "      <td>1</td>\n",
       "      <td>None</td>\n",
       "      <td>https://www.theguardian.com/environment/climat...</td>\n",
       "      <td>Last year was the hottest ever measured, conti...</td>\n",
       "      <td>3128</td>\n",
       "      <td>514</td>\n",
       "      <td>782</td>\n",
       "      <td>last year was the hottest ever measured contin...</td>\n",
       "      <td>news_article</td>\n",
       "      <td>2019-01-16 11:00:19+00:00</td>\n",
       "      <td>2019</td>\n",
       "      <td>Our oceans broke heat records in 2018 and the ...</td>\n",
       "      <td>1</td>\n",
       "      <td>3</td>\n",
       "      <td>3</td>\n",
       "      <td>ocean</td>\n",
       "      <td>heat</td>\n",
       "      <td>temperatur</td>\n",
       "      <td>warm</td>\n",
       "      <td>climat</td>\n",
       "      <td>heatwav</td>\n",
       "      <td>record</td>\n",
       "      <td>newslett</td>\n",
       "      <td>sea</td>\n",
       "      <td>global</td>\n",
       "      <td>0.859453</td>\n",
       "    </tr>\n",
       "    <tr>\n",
       "      <th>260</th>\n",
       "      <td>21</td>\n",
       "      <td>None</td>\n",
       "      <td>https://www.theguardian.com/environment/2024/o...</td>\n",
       "      <td>Instead of an existential crisis for species w...</td>\n",
       "      <td>7531</td>\n",
       "      <td>1187</td>\n",
       "      <td>1883</td>\n",
       "      <td>instead of an existential crisis for species w...</td>\n",
       "      <td>news_article</td>\n",
       "      <td>2024-10-23 14:00:42+00:00</td>\n",
       "      <td>2024</td>\n",
       "      <td>Bill Maher puts the fate of the Great Barrier ...</td>\n",
       "      <td>70</td>\n",
       "      <td>6</td>\n",
       "      <td>6</td>\n",
       "      <td>studi</td>\n",
       "      <td>barrier reef</td>\n",
       "      <td>barrier</td>\n",
       "      <td>great barrier</td>\n",
       "      <td>great</td>\n",
       "      <td>coral reef</td>\n",
       "      <td>climat</td>\n",
       "      <td>larva</td>\n",
       "      <td>cloud</td>\n",
       "      <td>research</td>\n",
       "      <td>0.870639</td>\n",
       "    </tr>\n",
       "  </tbody>\n",
       "</table>\n",
       "</div>"
      ],
      "text/plain": [
       "     url_num url_name                                                url  \\\n",
       "0          1     None  https://www.theguardian.com/environment/climat...   \n",
       "260       21     None  https://www.theguardian.com/environment/2024/o...   \n",
       "\n",
       "                                                  text  char_count  \\\n",
       "0    Last year was the hottest ever measured, conti...        3128   \n",
       "260  Instead of an existential crisis for species w...        7531   \n",
       "\n",
       "     sentence_count_raw  token_count  \\\n",
       "0                   514          782   \n",
       "260                1187         1883   \n",
       "\n",
       "                                          text_cleaned          type  \\\n",
       "0    last year was the hottest ever measured contin...  news_article   \n",
       "260  instead of an existential crisis for species w...  news_article   \n",
       "\n",
       "           webPublicationDate  year  \\\n",
       "0   2019-01-16 11:00:19+00:00  2019   \n",
       "260 2024-10-23 14:00:42+00:00  2024   \n",
       "\n",
       "                                              webTitle  page  topic_num  \\\n",
       "0    Our oceans broke heat records in 2018 and the ...     1          3   \n",
       "260  Bill Maher puts the fate of the Great Barrier ...    70          6   \n",
       "\n",
       "     topic term_0        term_1      term_2         term_3  term_4  \\\n",
       "0        3  ocean          heat  temperatur           warm  climat   \n",
       "260      6  studi  barrier reef     barrier  great barrier   great   \n",
       "\n",
       "         term_5  term_6    term_7 term_8    term_9  topic_num_resid  \n",
       "0       heatwav  record  newslett    sea    global         0.859453  \n",
       "260  coral reef  climat     larva  cloud  research         0.870639  "
      ]
     },
     "metadata": {},
     "output_type": "display_data"
    }
   ],
   "source": [
    "data_doc_topic_words = (\n",
    "    df\n",
    "    .merge(df_doc_topic_words, on=[\"url\"], how=\"left\")\n",
    "    .astype({\"topic_num\": int})\n",
    "    .rename(columns={c: f\"term_{c}\" for c in range(0, 10 + 1)})\n",
    "    .assign(topic_num_resid=r)\n",
    ")\n",
    "with pd.option_context('display.max_columns', None):\n",
    "    display(\n",
    "        pd.concat(\n",
    "            [data_doc_topic_words.head(1), data_doc_topic_words.tail(1)]\n",
    "        )\n",
    "    )"
   ]
  },
  {
   "cell_type": "markdown",
   "id": "8289a28e-2aaa-4320-addf-6010eba218df",
   "metadata": {},
   "source": [
    "Get top 10 terms and their weights per topic"
   ]
  },
  {
   "cell_type": "code",
   "execution_count": 24,
   "id": "aaa8c741-2410-4486-9535-84b7d2a904a5",
   "metadata": {},
   "outputs": [
    {
     "data": {
      "text/html": [
       "<div>\n",
       "<style scoped>\n",
       "    .dataframe tbody tr th:only-of-type {\n",
       "        vertical-align: middle;\n",
       "    }\n",
       "\n",
       "    .dataframe tbody tr th {\n",
       "        vertical-align: top;\n",
       "    }\n",
       "\n",
       "    .dataframe thead th {\n",
       "        text-align: right;\n",
       "    }\n",
       "</style>\n",
       "<table border=\"1\" class=\"dataframe\">\n",
       "  <thead>\n",
       "    <tr style=\"text-align: right;\">\n",
       "      <th></th>\n",
       "      <th>topic_num</th>\n",
       "      <th>term</th>\n",
       "      <th>weight</th>\n",
       "    </tr>\n",
       "  </thead>\n",
       "  <tbody>\n",
       "    <tr>\n",
       "      <th>0</th>\n",
       "      <td>0</td>\n",
       "      <td>fish</td>\n",
       "      <td>0.568719</td>\n",
       "    </tr>\n",
       "    <tr>\n",
       "      <th>1</th>\n",
       "      <td>0</td>\n",
       "      <td>sea</td>\n",
       "      <td>0.488011</td>\n",
       "    </tr>\n",
       "    <tr>\n",
       "      <th>2</th>\n",
       "      <td>0</td>\n",
       "      <td>ocean</td>\n",
       "      <td>0.453036</td>\n",
       "    </tr>\n",
       "    <tr>\n",
       "      <th>3</th>\n",
       "      <td>0</td>\n",
       "      <td>plastic</td>\n",
       "      <td>0.341840</td>\n",
       "    </tr>\n",
       "    <tr>\n",
       "      <th>4</th>\n",
       "      <td>0</td>\n",
       "      <td>protect</td>\n",
       "      <td>0.286801</td>\n",
       "    </tr>\n",
       "    <tr>\n",
       "      <th>...</th>\n",
       "      <td>...</td>\n",
       "      <td>...</td>\n",
       "      <td>...</td>\n",
       "    </tr>\n",
       "    <tr>\n",
       "      <th>64</th>\n",
       "      <td>6</td>\n",
       "      <td>great</td>\n",
       "      <td>0.204148</td>\n",
       "    </tr>\n",
       "    <tr>\n",
       "      <th>65</th>\n",
       "      <td>6</td>\n",
       "      <td>coral reef</td>\n",
       "      <td>0.185955</td>\n",
       "    </tr>\n",
       "    <tr>\n",
       "      <th>66</th>\n",
       "      <td>6</td>\n",
       "      <td>climat</td>\n",
       "      <td>0.185765</td>\n",
       "    </tr>\n",
       "    <tr>\n",
       "      <th>67</th>\n",
       "      <td>6</td>\n",
       "      <td>larva</td>\n",
       "      <td>0.183259</td>\n",
       "    </tr>\n",
       "    <tr>\n",
       "      <th>69</th>\n",
       "      <td>6</td>\n",
       "      <td>research</td>\n",
       "      <td>0.178643</td>\n",
       "    </tr>\n",
       "  </tbody>\n",
       "</table>\n",
       "<p>70 rows × 3 columns</p>\n",
       "</div>"
      ],
      "text/plain": [
       "    topic_num        term    weight\n",
       "0           0        fish  0.568719\n",
       "1           0         sea  0.488011\n",
       "2           0       ocean  0.453036\n",
       "3           0     plastic  0.341840\n",
       "4           0     protect  0.286801\n",
       "..        ...         ...       ...\n",
       "64          6       great  0.204148\n",
       "65          6  coral reef  0.185955\n",
       "66          6      climat  0.185765\n",
       "67          6       larva  0.183259\n",
       "69          6    research  0.178643\n",
       "\n",
       "[70 rows x 3 columns]"
      ]
     },
     "execution_count": 24,
     "metadata": {},
     "output_type": "execute_result"
    }
   ],
   "source": [
    "df_topic_word_weights_top_ten = (\n",
    "    (\n",
    "        topic_words_weights\n",
    "        .groupby(topic_words_weights.index)\n",
    "        .apply(lambda x: x.iloc[0].nlargest(num_top_terms))\n",
    "        .reset_index()\n",
    "        .rename(\n",
    "            columns={\"level_0\": \"topic_num\", \"level_1\": \"term\", 0: \"weight\"}\n",
    "        )\n",
    "    )\n",
    "    .astype({\"topic_num\": int})\n",
    "    .sort_values(by=[\"topic_num\"])\n",
    ")\n",
    "df_topic_word_weights_top_ten"
   ]
  },
  {
   "cell_type": "markdown",
   "id": "6f54974b-f633-4b7e-853a-e9e941d67e64",
   "metadata": {},
   "source": [
    "Pivot the above output from tidy data to untidy data, to get the term weights per topic"
   ]
  },
  {
   "cell_type": "code",
   "execution_count": 25,
   "id": "d9825df7-a0a3-4ede-8c83-4bf26d262a2d",
   "metadata": {},
   "outputs": [
    {
     "data": {
      "text/html": [
       "<div>\n",
       "<style scoped>\n",
       "    .dataframe tbody tr th:only-of-type {\n",
       "        vertical-align: middle;\n",
       "    }\n",
       "\n",
       "    .dataframe tbody tr th {\n",
       "        vertical-align: top;\n",
       "    }\n",
       "\n",
       "    .dataframe thead th {\n",
       "        text-align: right;\n",
       "    }\n",
       "</style>\n",
       "<table border=\"1\" class=\"dataframe\">\n",
       "  <thead>\n",
       "    <tr style=\"text-align: right;\">\n",
       "      <th></th>\n",
       "      <th>topic_num</th>\n",
       "      <th>term_0_weight</th>\n",
       "      <th>term_1_weight</th>\n",
       "      <th>term_2_weight</th>\n",
       "      <th>term_3_weight</th>\n",
       "      <th>term_4_weight</th>\n",
       "      <th>term_5_weight</th>\n",
       "      <th>term_6_weight</th>\n",
       "      <th>term_7_weight</th>\n",
       "      <th>term_8_weight</th>\n",
       "      <th>term_9_weight</th>\n",
       "    </tr>\n",
       "  </thead>\n",
       "  <tbody>\n",
       "    <tr>\n",
       "      <th>0</th>\n",
       "      <td>0</td>\n",
       "      <td>0.568719</td>\n",
       "      <td>0.488011</td>\n",
       "      <td>0.453036</td>\n",
       "      <td>0.341840</td>\n",
       "      <td>0.286801</td>\n",
       "      <td>0.240049</td>\n",
       "      <td>0.232575</td>\n",
       "      <td>0.214276</td>\n",
       "      <td>0.210008</td>\n",
       "      <td>0.209476</td>\n",
       "    </tr>\n",
       "    <tr>\n",
       "      <th>1</th>\n",
       "      <td>1</td>\n",
       "      <td>0.288911</td>\n",
       "      <td>0.303781</td>\n",
       "      <td>0.320053</td>\n",
       "      <td>0.335521</td>\n",
       "      <td>0.316546</td>\n",
       "      <td>0.400498</td>\n",
       "      <td>0.403290</td>\n",
       "      <td>0.408372</td>\n",
       "      <td>0.443662</td>\n",
       "      <td>0.364468</td>\n",
       "    </tr>\n",
       "    <tr>\n",
       "      <th>2</th>\n",
       "      <td>2</td>\n",
       "      <td>0.212738</td>\n",
       "      <td>0.213198</td>\n",
       "      <td>0.213394</td>\n",
       "      <td>0.214116</td>\n",
       "      <td>0.215296</td>\n",
       "      <td>0.216493</td>\n",
       "      <td>0.220976</td>\n",
       "      <td>0.268269</td>\n",
       "      <td>0.839142</td>\n",
       "      <td>0.216703</td>\n",
       "    </tr>\n",
       "    <tr>\n",
       "      <th>3</th>\n",
       "      <td>3</td>\n",
       "      <td>0.192084</td>\n",
       "      <td>0.163982</td>\n",
       "      <td>0.166907</td>\n",
       "      <td>0.185875</td>\n",
       "      <td>0.216960</td>\n",
       "      <td>0.237724</td>\n",
       "      <td>0.240776</td>\n",
       "      <td>0.313417</td>\n",
       "      <td>0.327990</td>\n",
       "      <td>0.468881</td>\n",
       "    </tr>\n",
       "    <tr>\n",
       "      <th>4</th>\n",
       "      <td>4</td>\n",
       "      <td>0.193001</td>\n",
       "      <td>0.193192</td>\n",
       "      <td>0.196054</td>\n",
       "      <td>0.196448</td>\n",
       "      <td>0.199147</td>\n",
       "      <td>0.237542</td>\n",
       "      <td>0.255245</td>\n",
       "      <td>0.281145</td>\n",
       "      <td>0.299211</td>\n",
       "      <td>0.228056</td>\n",
       "    </tr>\n",
       "    <tr>\n",
       "      <th>5</th>\n",
       "      <td>5</td>\n",
       "      <td>0.096736</td>\n",
       "      <td>0.074308</td>\n",
       "      <td>0.088798</td>\n",
       "      <td>0.089933</td>\n",
       "      <td>0.117203</td>\n",
       "      <td>0.136915</td>\n",
       "      <td>0.131745</td>\n",
       "      <td>0.156965</td>\n",
       "      <td>1.223388</td>\n",
       "      <td>0.119726</td>\n",
       "    </tr>\n",
       "    <tr>\n",
       "      <th>6</th>\n",
       "      <td>6</td>\n",
       "      <td>0.180724</td>\n",
       "      <td>0.240067</td>\n",
       "      <td>0.212199</td>\n",
       "      <td>0.210676</td>\n",
       "      <td>0.204385</td>\n",
       "      <td>0.204148</td>\n",
       "      <td>0.185955</td>\n",
       "      <td>0.185765</td>\n",
       "      <td>0.183259</td>\n",
       "      <td>0.178643</td>\n",
       "    </tr>\n",
       "  </tbody>\n",
       "</table>\n",
       "</div>"
      ],
      "text/plain": [
       "   topic_num  term_0_weight  term_1_weight  term_2_weight  term_3_weight  \\\n",
       "0          0       0.568719       0.488011       0.453036       0.341840   \n",
       "1          1       0.288911       0.303781       0.320053       0.335521   \n",
       "2          2       0.212738       0.213198       0.213394       0.214116   \n",
       "3          3       0.192084       0.163982       0.166907       0.185875   \n",
       "4          4       0.193001       0.193192       0.196054       0.196448   \n",
       "5          5       0.096736       0.074308       0.088798       0.089933   \n",
       "6          6       0.180724       0.240067       0.212199       0.210676   \n",
       "\n",
       "   term_4_weight  term_5_weight  term_6_weight  term_7_weight  term_8_weight  \\\n",
       "0       0.286801       0.240049       0.232575       0.214276       0.210008   \n",
       "1       0.316546       0.400498       0.403290       0.408372       0.443662   \n",
       "2       0.215296       0.216493       0.220976       0.268269       0.839142   \n",
       "3       0.216960       0.237724       0.240776       0.313417       0.327990   \n",
       "4       0.199147       0.237542       0.255245       0.281145       0.299211   \n",
       "5       0.117203       0.136915       0.131745       0.156965       1.223388   \n",
       "6       0.204385       0.204148       0.185955       0.185765       0.183259   \n",
       "\n",
       "   term_9_weight  \n",
       "0       0.209476  \n",
       "1       0.364468  \n",
       "2       0.216703  \n",
       "3       0.468881  \n",
       "4       0.228056  \n",
       "5       0.119726  \n",
       "6       0.178643  "
      ]
     },
     "execution_count": 25,
     "metadata": {},
     "output_type": "execute_result"
    }
   ],
   "source": [
    "df_word_weights = (\n",
    "    pd.DataFrame(\n",
    "        (\n",
    "            df_topic_word_weights_top_ten\n",
    "            .groupby(\"topic_num\")\n",
    "            [\"weight\"]\n",
    "            .apply(list)\n",
    "            .tolist()\n",
    "        ),\n",
    "        columns=[f\"term_{w}_weight\" for w in range(0, 9 + 1)],\n",
    "    )\n",
    "    .reset_index()\n",
    "    .rename(columns={\"index\": \"topic_num\"})\n",
    "    .astype({\"topic_num\": int})\n",
    ")\n",
    "df_word_weights"
   ]
  },
  {
   "cell_type": "markdown",
   "id": "0f79b4f9-41e7-4bc7-bfb8-d7a122c66a1d",
   "metadata": {},
   "source": [
    "**Notes**\n",
    "\n",
    "1. The output has one row per topic.\n",
    "2. The columns correspond to the 10 term weights for each topic."
   ]
  },
  {
   "cell_type": "markdown",
   "id": "5c2d7bb8-9df1-44d0-9439-6723dfcecc0f",
   "metadata": {},
   "source": [
    "Add the above pivotted term weights to merged `DataFrame` with the document topic, top ten terms and residuals (`data_doc_topic_words`)"
   ]
  },
  {
   "cell_type": "code",
   "execution_count": 26,
   "id": "c59f72cd-0096-41e5-8ac4-4fad0d4010b2",
   "metadata": {},
   "outputs": [
    {
     "data": {
      "text/html": [
       "<div>\n",
       "<style scoped>\n",
       "    .dataframe tbody tr th:only-of-type {\n",
       "        vertical-align: middle;\n",
       "    }\n",
       "\n",
       "    .dataframe tbody tr th {\n",
       "        vertical-align: top;\n",
       "    }\n",
       "\n",
       "    .dataframe thead th {\n",
       "        text-align: right;\n",
       "    }\n",
       "</style>\n",
       "<table border=\"1\" class=\"dataframe\">\n",
       "  <thead>\n",
       "    <tr style=\"text-align: right;\">\n",
       "      <th></th>\n",
       "      <th>url_num</th>\n",
       "      <th>url_name</th>\n",
       "      <th>url</th>\n",
       "      <th>text</th>\n",
       "      <th>char_count</th>\n",
       "      <th>sentence_count_raw</th>\n",
       "      <th>token_count</th>\n",
       "      <th>text_cleaned</th>\n",
       "      <th>type</th>\n",
       "      <th>webPublicationDate</th>\n",
       "      <th>year</th>\n",
       "      <th>webTitle</th>\n",
       "      <th>page</th>\n",
       "      <th>topic_num</th>\n",
       "      <th>topic</th>\n",
       "      <th>term_0</th>\n",
       "      <th>term_1</th>\n",
       "      <th>term_2</th>\n",
       "      <th>term_3</th>\n",
       "      <th>term_4</th>\n",
       "      <th>term_5</th>\n",
       "      <th>term_6</th>\n",
       "      <th>term_7</th>\n",
       "      <th>term_8</th>\n",
       "      <th>term_9</th>\n",
       "      <th>topic_num_resid</th>\n",
       "      <th>term_0_weight</th>\n",
       "      <th>term_1_weight</th>\n",
       "      <th>term_2_weight</th>\n",
       "      <th>term_3_weight</th>\n",
       "      <th>term_4_weight</th>\n",
       "      <th>term_5_weight</th>\n",
       "      <th>term_6_weight</th>\n",
       "      <th>term_7_weight</th>\n",
       "      <th>term_8_weight</th>\n",
       "      <th>term_9_weight</th>\n",
       "    </tr>\n",
       "  </thead>\n",
       "  <tbody>\n",
       "    <tr>\n",
       "      <th>0</th>\n",
       "      <td>1</td>\n",
       "      <td>None</td>\n",
       "      <td>https://www.theguardian.com/environment/climat...</td>\n",
       "      <td>Last year was the hottest ever measured, conti...</td>\n",
       "      <td>3128</td>\n",
       "      <td>514</td>\n",
       "      <td>782</td>\n",
       "      <td>last year was the hottest ever measured contin...</td>\n",
       "      <td>news_article</td>\n",
       "      <td>2019-01-16 11:00:19+00:00</td>\n",
       "      <td>2019</td>\n",
       "      <td>Our oceans broke heat records in 2018 and the ...</td>\n",
       "      <td>1</td>\n",
       "      <td>3</td>\n",
       "      <td>3</td>\n",
       "      <td>ocean</td>\n",
       "      <td>heat</td>\n",
       "      <td>temperatur</td>\n",
       "      <td>warm</td>\n",
       "      <td>climat</td>\n",
       "      <td>heatwav</td>\n",
       "      <td>record</td>\n",
       "      <td>newslett</td>\n",
       "      <td>sea</td>\n",
       "      <td>global</td>\n",
       "      <td>0.859453</td>\n",
       "      <td>0.192084</td>\n",
       "      <td>0.163982</td>\n",
       "      <td>0.166907</td>\n",
       "      <td>0.185875</td>\n",
       "      <td>0.216960</td>\n",
       "      <td>0.237724</td>\n",
       "      <td>0.240776</td>\n",
       "      <td>0.313417</td>\n",
       "      <td>0.327990</td>\n",
       "      <td>0.468881</td>\n",
       "    </tr>\n",
       "    <tr>\n",
       "      <th>260</th>\n",
       "      <td>21</td>\n",
       "      <td>None</td>\n",
       "      <td>https://www.theguardian.com/environment/2024/o...</td>\n",
       "      <td>Instead of an existential crisis for species w...</td>\n",
       "      <td>7531</td>\n",
       "      <td>1187</td>\n",
       "      <td>1883</td>\n",
       "      <td>instead of an existential crisis for species w...</td>\n",
       "      <td>news_article</td>\n",
       "      <td>2024-10-23 14:00:42+00:00</td>\n",
       "      <td>2024</td>\n",
       "      <td>Bill Maher puts the fate of the Great Barrier ...</td>\n",
       "      <td>70</td>\n",
       "      <td>6</td>\n",
       "      <td>6</td>\n",
       "      <td>studi</td>\n",
       "      <td>barrier reef</td>\n",
       "      <td>barrier</td>\n",
       "      <td>great barrier</td>\n",
       "      <td>great</td>\n",
       "      <td>coral reef</td>\n",
       "      <td>climat</td>\n",
       "      <td>larva</td>\n",
       "      <td>cloud</td>\n",
       "      <td>research</td>\n",
       "      <td>0.870639</td>\n",
       "      <td>0.180724</td>\n",
       "      <td>0.240067</td>\n",
       "      <td>0.212199</td>\n",
       "      <td>0.210676</td>\n",
       "      <td>0.204385</td>\n",
       "      <td>0.204148</td>\n",
       "      <td>0.185955</td>\n",
       "      <td>0.185765</td>\n",
       "      <td>0.183259</td>\n",
       "      <td>0.178643</td>\n",
       "    </tr>\n",
       "  </tbody>\n",
       "</table>\n",
       "</div>"
      ],
      "text/plain": [
       "     url_num url_name                                                url  \\\n",
       "0          1     None  https://www.theguardian.com/environment/climat...   \n",
       "260       21     None  https://www.theguardian.com/environment/2024/o...   \n",
       "\n",
       "                                                  text  char_count  \\\n",
       "0    Last year was the hottest ever measured, conti...        3128   \n",
       "260  Instead of an existential crisis for species w...        7531   \n",
       "\n",
       "     sentence_count_raw  token_count  \\\n",
       "0                   514          782   \n",
       "260                1187         1883   \n",
       "\n",
       "                                          text_cleaned          type  \\\n",
       "0    last year was the hottest ever measured contin...  news_article   \n",
       "260  instead of an existential crisis for species w...  news_article   \n",
       "\n",
       "           webPublicationDate  year  \\\n",
       "0   2019-01-16 11:00:19+00:00  2019   \n",
       "260 2024-10-23 14:00:42+00:00  2024   \n",
       "\n",
       "                                              webTitle  page  topic_num  \\\n",
       "0    Our oceans broke heat records in 2018 and the ...     1          3   \n",
       "260  Bill Maher puts the fate of the Great Barrier ...    70          6   \n",
       "\n",
       "     topic term_0        term_1      term_2         term_3  term_4  \\\n",
       "0        3  ocean          heat  temperatur           warm  climat   \n",
       "260      6  studi  barrier reef     barrier  great barrier   great   \n",
       "\n",
       "         term_5  term_6    term_7 term_8    term_9  topic_num_resid  \\\n",
       "0       heatwav  record  newslett    sea    global         0.859453   \n",
       "260  coral reef  climat     larva  cloud  research         0.870639   \n",
       "\n",
       "     term_0_weight  term_1_weight  term_2_weight  term_3_weight  \\\n",
       "0         0.192084       0.163982       0.166907       0.185875   \n",
       "260       0.180724       0.240067       0.212199       0.210676   \n",
       "\n",
       "     term_4_weight  term_5_weight  term_6_weight  term_7_weight  \\\n",
       "0         0.216960       0.237724       0.240776       0.313417   \n",
       "260       0.204385       0.204148       0.185955       0.185765   \n",
       "\n",
       "     term_8_weight  term_9_weight  \n",
       "0         0.327990       0.468881  \n",
       "260       0.183259       0.178643  "
      ]
     },
     "metadata": {},
     "output_type": "display_data"
    }
   ],
   "source": [
    "data_doc_topic_words_weights = (\n",
    "    data_doc_topic_words\n",
    "    .merge(df_word_weights, on=\"topic_num\", how=\"left\")\n",
    ")\n",
    "with pd.option_context('display.max_columns', None):\n",
    "    display(\n",
    "        pd.concat(\n",
    "            [\n",
    "                data_doc_topic_words_weights.head(1),\n",
    "                data_doc_topic_words_weights.tail(1),\n",
    "            ]\n",
    "        )\n",
    "    )"
   ]
  },
  {
   "cell_type": "markdown",
   "id": "5a6cbed3-fe68-49c7-bacd-f6a55d0a6b3d",
   "metadata": {},
   "source": [
    "### Perform Sanity Checks on Outputs"
   ]
  },
  {
   "cell_type": "markdown",
   "id": "0604301c-38c3-4e52-a331-acdb66bbaaee",
   "metadata": {},
   "source": [
    "Verify that `DataFrame` of all term weights contains the correct number of topics"
   ]
  },
  {
   "cell_type": "code",
   "execution_count": 27,
   "id": "3ca82cc0-9dae-4557-ad6b-ea4eef7d2388",
   "metadata": {},
   "outputs": [],
   "source": [
    "assert len(topic_words_weights) == k_best"
   ]
  },
  {
   "cell_type": "markdown",
   "id": "5874a9fc-c92b-49d8-8ff2-ae50d95eed2e",
   "metadata": {},
   "source": [
    "heck that the first row of the `DataFrame` with the top `n` words per topic gives the specified number of words"
   ]
  },
  {
   "cell_type": "code",
   "execution_count": 28,
   "id": "136eade8-77d8-42a9-8211-bd6c88ba59e7",
   "metadata": {},
   "outputs": [],
   "source": [
    "expectd = df_topic_words.iloc[0, 1:-1].tolist()\n",
    "top_ten_words = topic_words_weights.iloc[0].nlargest(num_top_terms).index.tolist()\n",
    "assert top_ten_words == expectd"
   ]
  },
  {
   "cell_type": "markdown",
   "id": "00e5376c-71fe-467e-81db-f592891eaa85",
   "metadata": {},
   "source": [
    "Verify that the URL column in the `DataFrame` with processed news article URL and associated topic number matches the URL from the processed data"
   ]
  },
  {
   "cell_type": "code",
   "execution_count": 29,
   "id": "506daf27-cb68-456c-ab68-4c8298ca5da1",
   "metadata": {},
   "outputs": [],
   "source": [
    "assert df_doc_topic[\"url\"].tolist() == df[\"url\"].tolist()"
   ]
  },
  {
   "cell_type": "markdown",
   "id": "5dde8564-9199-4d6b-af57-14a1b30b2d88",
   "metadata": {},
   "source": [
    "From the `DataFrame` with the terms, term weights and processed data columns (URL, text, publication date, etc.), verify that merging has been performed correctly by checking the following\n",
    "\n",
    "1. all URLs in the URL column match the URLs column from the processed data\n",
    "2. the dates are monotically increasing (as is the case with the processed data)"
   ]
  },
  {
   "cell_type": "markdown",
   "id": "e758d60d-154e-442f-9c5a-e254d06b52c7",
   "metadata": {},
   "source": [
    "Verification 1 - Checking the full URL column"
   ]
  },
  {
   "cell_type": "code",
   "execution_count": 30,
   "id": "bb21bcb2-6e6e-48f4-aca8-5733c5dddf1b",
   "metadata": {},
   "outputs": [],
   "source": [
    "urls_from_data = data_doc_topic_words_weights[\"url\"].tolist()\n",
    "assert urls_from_data == df[\"url\"].tolist()"
   ]
  },
  {
   "cell_type": "markdown",
   "id": "e3f7c80c-de82-427f-b56d-90e8a91e0af2",
   "metadata": {},
   "source": [
    "Verification 2 - Checking the date column"
   ]
  },
  {
   "cell_type": "code",
   "execution_count": 31,
   "id": "25124c92-890d-4bed-90f6-a25e5b86b25a",
   "metadata": {},
   "outputs": [],
   "source": [
    "data_pubs_dates = data_doc_topic_words_weights[\"webPublicationDate\"].dt.date\n",
    "assert pd.to_datetime(data_pubs_dates).is_monotonic_increasing"
   ]
  },
  {
   "cell_type": "markdown",
   "id": "3241e83f-46bb-4061-b2c7-79abf4aba795",
   "metadata": {},
   "source": [
    "### Plot Topic Residuals"
   ]
  },
  {
   "cell_type": "markdown",
   "id": "1203cf06-dbb3-414a-b8de-218f00222529",
   "metadata": {},
   "source": [
    "We'll show a boxplot of these topic residuals"
   ]
  },
  {
   "cell_type": "code",
   "execution_count": 32,
   "id": "32fd20e4-effd-4f16-a5d0-4f65dbb0876c",
   "metadata": {},
   "outputs": [
    {
     "data": {
      "image/png": "[encoded data removed]",
      "text/plain": [
       "<Figure size 1200x600 with 1 Axes>"
      ]
     },
     "metadata": {},
     "output_type": "display_data"
    }
   ],
   "source": [
    "fig, ax = plt.subplots(figsize=(12, 6))\n",
    "_ = data_doc_topic_words[['topic_num', 'topic_num_resid']].boxplot(\n",
    "    by='topic_num',\n",
    "    grid=False,\n",
    "    ax=ax,\n",
    ")\n",
    "# remove plot title\n",
    "ax.set_title('')\n",
    "# remove name of grouping column\n",
    "fig.suptitle('')\n",
    "# formatting\n",
    "ax.xaxis.set_ticks_position('none')\n",
    "ax.yaxis.set_ticks_position('none')\n",
    "ax.spines[['right', 'top', 'left', 'bottom']].set_visible(False)\n",
    "ax.tick_params(axis='both', which='major', labelsize=14)\n",
    "ax.tick_params(axis='both', colors='grey')\n",
    "# x-axis label\n",
    "_ = ax.set_xlabel('Topic Number', fontsize=14, color='grey')\n",
    "# y-axis label\n",
    "_ = ax.set_ylabel('Residual', fontsize=14, color='grey')\n",
    "# title\n",
    "_ = ax.set_title(\n",
    "    \"Boxplot of Residuals per Topic (lower is better)\",\n",
    "    loc='left',\n",
    "    fontsize=14,\n",
    ")"
   ]
  },
  {
   "cell_type": "markdown",
   "id": "91a3ad83-1aeb-4e09-b4e2-c354818c69de",
   "metadata": {},
   "source": [
    "**Notes**\n",
    "\n",
    "1. This plot summarizes how the texts in each topic actually fit into that topic. A smaller value on the vertical axis (the residual) indicates a better fit between the news articles in this topic found by the NMF model. Outliers are shown by circles."
   ]
  },
  {
   "cell_type": "markdown",
   "id": "8b90b46a-c853-4161-a11b-6682db24ef10",
   "metadata": {},
   "source": [
    "**Observations**\n",
    "\n",
    "1. Only one of the topics has a median residual below 0.80. The `NMF` hyperparameters were hard-coded during topic optimization. Tuning these hyper-parameters and collecting (scraping) more data could be tried to help reduce the median topic residuals."
   ]
  },
  {
   "cell_type": "markdown",
   "id": "156649c2-aa2a-43db-87f6-bfb01b7800d6",
   "metadata": {},
   "source": [
    "### Assign Topic Names - Read Texts in Each Topic"
   ]
  },
  {
   "cell_type": "markdown",
   "id": "f9e6593c-b8b5-42ef-a322-2db619adaded",
   "metadata": {},
   "source": [
    "In order to assign names to topics, it is necessary to read the best documents (those with the smallest residual) per topic and assess the top terms (highest weight) per topic. This section lists the top 5 URLs per topic for reading and then assigning a topic name"
   ]
  },
  {
   "cell_type": "markdown",
   "id": "1344d203-5936-44ba-b9b0-ec837c61c19e",
   "metadata": {},
   "source": [
    "#### Topic 0"
   ]
  },
  {
   "cell_type": "code",
   "execution_count": 50,
   "id": "79434e1d-d402-4107-be33-cce479ad9fc7",
   "metadata": {},
   "outputs": [
    {
     "data": {
      "text/html": [
       "<div>\n",
       "<style scoped>\n",
       "    .dataframe tbody tr th:only-of-type {\n",
       "        vertical-align: middle;\n",
       "    }\n",
       "\n",
       "    .dataframe tbody tr th {\n",
       "        vertical-align: top;\n",
       "    }\n",
       "\n",
       "    .dataframe thead th {\n",
       "        text-align: right;\n",
       "    }\n",
       "</style>\n",
       "<table border=\"1\" class=\"dataframe\">\n",
       "  <thead>\n",
       "    <tr style=\"text-align: right;\">\n",
       "      <th></th>\n",
       "      <th>term</th>\n",
       "      <th>weight</th>\n",
       "    </tr>\n",
       "  </thead>\n",
       "  <tbody>\n",
       "    <tr>\n",
       "      <th>0</th>\n",
       "      <td>fish</td>\n",
       "      <td>0.568719</td>\n",
       "    </tr>\n",
       "    <tr>\n",
       "      <th>1</th>\n",
       "      <td>sea</td>\n",
       "      <td>0.488011</td>\n",
       "    </tr>\n",
       "    <tr>\n",
       "      <th>2</th>\n",
       "      <td>ocean</td>\n",
       "      <td>0.453036</td>\n",
       "    </tr>\n",
       "    <tr>\n",
       "      <th>3</th>\n",
       "      <td>plastic</td>\n",
       "      <td>0.341840</td>\n",
       "    </tr>\n",
       "    <tr>\n",
       "      <th>4</th>\n",
       "      <td>protect</td>\n",
       "      <td>0.286801</td>\n",
       "    </tr>\n",
       "    <tr>\n",
       "      <th>5</th>\n",
       "      <td>island</td>\n",
       "      <td>0.240049</td>\n",
       "    </tr>\n",
       "    <tr>\n",
       "      <th>6</th>\n",
       "      <td>photograph</td>\n",
       "      <td>0.232575</td>\n",
       "    </tr>\n",
       "    <tr>\n",
       "      <th>7</th>\n",
       "      <td>speci</td>\n",
       "      <td>0.214276</td>\n",
       "    </tr>\n",
       "    <tr>\n",
       "      <th>8</th>\n",
       "      <td>area</td>\n",
       "      <td>0.210008</td>\n",
       "    </tr>\n",
       "    <tr>\n",
       "      <th>9</th>\n",
       "      <td>deep</td>\n",
       "      <td>0.209476</td>\n",
       "    </tr>\n",
       "  </tbody>\n",
       "</table>\n",
       "</div>"
      ],
      "text/plain": [
       "         term    weight\n",
       "0        fish  0.568719\n",
       "1         sea  0.488011\n",
       "2       ocean  0.453036\n",
       "3     plastic  0.341840\n",
       "4     protect  0.286801\n",
       "5      island  0.240049\n",
       "6  photograph  0.232575\n",
       "7       speci  0.214276\n",
       "8        area  0.210008\n",
       "9        deep  0.209476"
      ]
     },
     "execution_count": 50,
     "metadata": {},
     "output_type": "execute_result"
    }
   ],
   "source": [
    "(\n",
    "    df_topic_word_weights_top_ten\n",
    "    .query(\"topic_num == 0\")\n",
    "    .reset_index(drop=True)\n",
    "    .nlargest(10, 'weight')\n",
    "    [['term', 'weight']]\n",
    ")"
   ]
  },
  {
   "cell_type": "markdown",
   "id": "f4663143-6b52-4506-9712-7d9bff29990b",
   "metadata": {},
   "source": [
    "The five best texts that fit into topic 0 are shown below"
   ]
  },
  {
   "cell_type": "code",
   "execution_count": 33,
   "id": "209eb60f-7682-445b-b9e4-6560fa05e84c",
   "metadata": {},
   "outputs": [
    {
     "data": {
      "text/plain": [
       "['https://www.theguardian.com/environment/2020/jun/11/i-raised-hell-how-people-worldwide-answered-the-call-of-world-oceans-day',\n",
       " 'https://www.theguardian.com/environment/article/2024/jun/06/how-to-save-oceans-rewilding-conservation-fisheries-pollution-forever-chemicals-deep-sea-mining',\n",
       " 'https://www.theguardian.com/environment/article/2024/jun/30/neuston-sea-creatures-ocean-surface-science-study',\n",
       " 'https://www.theguardian.com/environment/2022/may/30/the-ocean-is-everything-pacific-state-of-niue-declares-all-of-its-waters-protected',\n",
       " 'https://www.theguardian.com/environment/2020/apr/01/oceans-can-be-restored-to-former-glory-within-30-years-say-scientists']"
      ]
     },
     "execution_count": 33,
     "metadata": {},
     "output_type": "execute_result"
    }
   ],
   "source": [
    "(\n",
    "    data_doc_topic_words\n",
    "    .query(\"topic_num == 0\")\n",
    "    .nsmallest(5, \"topic_num_resid\")[\"url\"].tolist()\n",
    ")"
   ]
  },
  {
   "cell_type": "markdown",
   "id": "f84c83e9-f92d-4889-b387-d00a73253f45",
   "metadata": {},
   "source": [
    "**Observations**\n",
    "\n",
    "1. The topics of these articles are listed below\n",
    "   - [readers' efforts to defend occeans on World Oceans Day, such as re-growing corals and setting up land-based coral nurseries](https://www.theguardian.com/environment/2020/jun/11/i-raised-hell-how-people-worldwide-answered-the-call-of-world-oceans-day)\n",
    "   - [five ways to conserve the oceans and protect corals](https://www.theguardian.com/environment/article/2024/jun/06/how-to-save-oceans-rewilding-conservation-fisheries-pollution-forever-chemicals-deep-sea-mining)\n",
    "   - [how the *neuston* organisms help coral reefs](https://www.theguardian.com/environment/article/2024/jun/30/neuston-sea-creatures-ocean-surface-science-study)\n",
    "   - [plans by Pacific island of Niue to protect all of its corals](https://www.theguardian.com/environment/2022/may/30/the-ocean-is-everything-pacific-state-of-niue-declares-all-of-its-waters-protected)\n",
    "   - [how oceans can be restored](https://www.theguardian.com/environment/2020/apr/01/oceans-can-be-restored-to-former-glory-within-30-years-say-scientists)"
   ]
  },
  {
   "cell_type": "markdown",
   "id": "eb62628a-f302-4405-b498-a105b12645ad",
   "metadata": {},
   "source": [
    "**Topic Name**: Ocean **conservation activities to protect and restore corals**"
   ]
  },
  {
   "cell_type": "markdown",
   "id": "fb110fe3-5ff8-4a40-848c-c2b33c7edd3a",
   "metadata": {},
   "source": [
    "#### Topic 1"
   ]
  },
  {
   "cell_type": "code",
   "execution_count": 49,
   "id": "c7cc09ad-a66f-4f4f-ac36-7a222c2ab221",
   "metadata": {},
   "outputs": [
    {
     "data": {
      "text/html": [
       "<div>\n",
       "<style scoped>\n",
       "    .dataframe tbody tr th:only-of-type {\n",
       "        vertical-align: middle;\n",
       "    }\n",
       "\n",
       "    .dataframe tbody tr th {\n",
       "        vertical-align: top;\n",
       "    }\n",
       "\n",
       "    .dataframe thead th {\n",
       "        text-align: right;\n",
       "    }\n",
       "</style>\n",
       "<table border=\"1\" class=\"dataframe\">\n",
       "  <thead>\n",
       "    <tr style=\"text-align: right;\">\n",
       "      <th></th>\n",
       "      <th>term</th>\n",
       "      <th>weight</th>\n",
       "    </tr>\n",
       "  </thead>\n",
       "  <tbody>\n",
       "    <tr>\n",
       "      <th>0</th>\n",
       "      <td>fish</td>\n",
       "      <td>0.568719</td>\n",
       "    </tr>\n",
       "    <tr>\n",
       "      <th>1</th>\n",
       "      <td>sea</td>\n",
       "      <td>0.488011</td>\n",
       "    </tr>\n",
       "    <tr>\n",
       "      <th>2</th>\n",
       "      <td>ocean</td>\n",
       "      <td>0.453036</td>\n",
       "    </tr>\n",
       "    <tr>\n",
       "      <th>3</th>\n",
       "      <td>plastic</td>\n",
       "      <td>0.341840</td>\n",
       "    </tr>\n",
       "    <tr>\n",
       "      <th>4</th>\n",
       "      <td>protect</td>\n",
       "      <td>0.286801</td>\n",
       "    </tr>\n",
       "    <tr>\n",
       "      <th>5</th>\n",
       "      <td>island</td>\n",
       "      <td>0.240049</td>\n",
       "    </tr>\n",
       "    <tr>\n",
       "      <th>6</th>\n",
       "      <td>photograph</td>\n",
       "      <td>0.232575</td>\n",
       "    </tr>\n",
       "    <tr>\n",
       "      <th>7</th>\n",
       "      <td>speci</td>\n",
       "      <td>0.214276</td>\n",
       "    </tr>\n",
       "    <tr>\n",
       "      <th>8</th>\n",
       "      <td>area</td>\n",
       "      <td>0.210008</td>\n",
       "    </tr>\n",
       "    <tr>\n",
       "      <th>9</th>\n",
       "      <td>deep</td>\n",
       "      <td>0.209476</td>\n",
       "    </tr>\n",
       "  </tbody>\n",
       "</table>\n",
       "</div>"
      ],
      "text/plain": [
       "         term    weight\n",
       "0        fish  0.568719\n",
       "1         sea  0.488011\n",
       "2       ocean  0.453036\n",
       "3     plastic  0.341840\n",
       "4     protect  0.286801\n",
       "5      island  0.240049\n",
       "6  photograph  0.232575\n",
       "7       speci  0.214276\n",
       "8        area  0.210008\n",
       "9        deep  0.209476"
      ]
     },
     "execution_count": 49,
     "metadata": {},
     "output_type": "execute_result"
    }
   ],
   "source": [
    "(\n",
    "    df_topic_word_weights_top_ten\n",
    "    .query(\"topic_num == 1\")\n",
    "    .reset_index(drop=True)\n",
    "    .nlargest(10, 'weight')\n",
    "    [['term', 'weight']]\n",
    ")"
   ]
  },
  {
   "cell_type": "markdown",
   "id": "c04e1f57-de51-4641-a81e-98a107f64cf8",
   "metadata": {},
   "source": [
    "The five best texts that fit into topic 1 are shown below"
   ]
  },
  {
   "cell_type": "code",
   "execution_count": 34,
   "id": "7c1bbb59-dc99-49ec-9f87-6ed0c334017b",
   "metadata": {},
   "outputs": [
    {
     "data": {
      "text/plain": [
       "['https://www.theguardian.com/environment/2021/jun/22/great-barrier-reef-should-be-listed-as-in-danger-unesco-recommends',\n",
       " 'https://www.theguardian.com/environment/2021/jun/23/political-ploys-and-an-ocean-jewel-whats-behind-the-uns-in-danger-warning-for-the-great-barrier-reef',\n",
       " 'https://www.theguardian.com/environment/2021/jun/04/un-body-pushed-to-demand-stronger-climate-action-from-australia-to-save-great-barrier-reef',\n",
       " 'https://www.theguardian.com/environment/2022/nov/29/explainer-great-barrier-reef-flagged-as-in-danger-world-heritage-site-what-does-this-mean',\n",
       " 'https://www.theguardian.com/environment/2021/jul/07/australia-demands-world-heritage-experts-visit-great-barrier-reef-ahead-of-in-danger-list-decision']"
      ]
     },
     "execution_count": 34,
     "metadata": {},
     "output_type": "execute_result"
    }
   ],
   "source": [
    "(\n",
    "    data_doc_topic_words\n",
    "    .query(\"topic_num == 1\")\n",
    "    .nsmallest(5, \"topic_num_resid\")[\"url\"].tolist()\n",
    ")"
   ]
  },
  {
   "cell_type": "markdown",
   "id": "3becd5f7-6774-4612-afd0-4784226af8e2",
   "metadata": {},
   "source": [
    "**Observations**\n",
    "\n",
    "1. [advocate for placing Great Barrier Reef (world's biggest coral reef) on list of heritage sites that are in danger](https://www.theguardian.com/environment/2021/jun/22/great-barrier-reef-should-be-listed-as-in-danger-unesco-recommends)\n",
    "2. [reasoning behind United Nation's *in-danger* warning for the Great Barrier reef](https://www.theguardian.com/environment/2021/jun/23/political-ploys-and-an-ocean-jewel-whats-behind-the-uns-in-danger-warning-for-the-great-barrier-reef)\n",
    "3. [United Nations World Heritage Committee pushes for stronger climate reform to save the Great Barrier Reef](https://www.theguardian.com/environment/2021/jun/04/un-body-pushed-to-demand-stronger-climate-action-from-australia-to-save-great-barrier-reef)\n",
    "4. [UN scientists recommend Great Barrier reef be placed on a list of world heritage sites that are in danger due to global warming](https://www.theguardian.com/environment/2022/nov/29/explainer-great-barrier-reef-flagged-as-in-danger-world-heritage-site-what-does-this-mean)\n",
    "5. [Request from Australia to visit Great Barrier reef before it is listed as in-danger](https://www.theguardian.com/environment/2021/jul/07/australia-demands-world-heritage-experts-visit-great-barrier-reef-ahead-of-in-danger-list-decision)"
   ]
  },
  {
   "cell_type": "markdown",
   "id": "4d437dab-52c8-44ae-8465-32b58c0e0ae5",
   "metadata": {},
   "source": [
    "**Topic Name**: Scientific recommendation to **place Great Barrier Reef on list of in-danger heritage sites** due to consequences of global warming"
   ]
  },
  {
   "cell_type": "markdown",
   "id": "c321c37d-53d7-453c-85ae-b7fe1faa688b",
   "metadata": {},
   "source": [
    "#### Topic 2"
   ]
  },
  {
   "cell_type": "code",
   "execution_count": 48,
   "id": "3009f86a-4347-4e85-a140-3ea242dbbbbd",
   "metadata": {},
   "outputs": [
    {
     "data": {
      "text/html": [
       "<div>\n",
       "<style scoped>\n",
       "    .dataframe tbody tr th:only-of-type {\n",
       "        vertical-align: middle;\n",
       "    }\n",
       "\n",
       "    .dataframe tbody tr th {\n",
       "        vertical-align: top;\n",
       "    }\n",
       "\n",
       "    .dataframe thead th {\n",
       "        text-align: right;\n",
       "    }\n",
       "</style>\n",
       "<table border=\"1\" class=\"dataframe\">\n",
       "  <thead>\n",
       "    <tr style=\"text-align: right;\">\n",
       "      <th></th>\n",
       "      <th>term</th>\n",
       "      <th>weight</th>\n",
       "    </tr>\n",
       "  </thead>\n",
       "  <tbody>\n",
       "    <tr>\n",
       "      <th>8</th>\n",
       "      <td>bleach</td>\n",
       "      <td>0.839142</td>\n",
       "    </tr>\n",
       "    <tr>\n",
       "      <th>7</th>\n",
       "      <td>event</td>\n",
       "      <td>0.268269</td>\n",
       "    </tr>\n",
       "    <tr>\n",
       "      <th>6</th>\n",
       "      <td>stress</td>\n",
       "      <td>0.220976</td>\n",
       "    </tr>\n",
       "    <tr>\n",
       "      <th>9</th>\n",
       "      <td>heat</td>\n",
       "      <td>0.216703</td>\n",
       "    </tr>\n",
       "    <tr>\n",
       "      <th>5</th>\n",
       "      <td>bleach event</td>\n",
       "      <td>0.216493</td>\n",
       "    </tr>\n",
       "    <tr>\n",
       "      <th>4</th>\n",
       "      <td>barrier reef</td>\n",
       "      <td>0.215296</td>\n",
       "    </tr>\n",
       "    <tr>\n",
       "      <th>3</th>\n",
       "      <td>great barrier</td>\n",
       "      <td>0.214116</td>\n",
       "    </tr>\n",
       "    <tr>\n",
       "      <th>2</th>\n",
       "      <td>survey</td>\n",
       "      <td>0.213394</td>\n",
       "    </tr>\n",
       "    <tr>\n",
       "      <th>1</th>\n",
       "      <td>coral bleach</td>\n",
       "      <td>0.213198</td>\n",
       "    </tr>\n",
       "    <tr>\n",
       "      <th>0</th>\n",
       "      <td>heat stress</td>\n",
       "      <td>0.212738</td>\n",
       "    </tr>\n",
       "  </tbody>\n",
       "</table>\n",
       "</div>"
      ],
      "text/plain": [
       "            term    weight\n",
       "8         bleach  0.839142\n",
       "7          event  0.268269\n",
       "6         stress  0.220976\n",
       "9           heat  0.216703\n",
       "5   bleach event  0.216493\n",
       "4   barrier reef  0.215296\n",
       "3  great barrier  0.214116\n",
       "2         survey  0.213394\n",
       "1   coral bleach  0.213198\n",
       "0    heat stress  0.212738"
      ]
     },
     "execution_count": 48,
     "metadata": {},
     "output_type": "execute_result"
    }
   ],
   "source": [
    "(\n",
    "    df_topic_word_weights_top_ten\n",
    "    .query(\"topic_num == 2\")\n",
    "    .reset_index(drop=True)\n",
    "    .nlargest(10, 'weight')\n",
    "    [['term', 'weight']]\n",
    ")"
   ]
  },
  {
   "cell_type": "markdown",
   "id": "2021172e-a963-4224-b99c-ccc3b3bb74ab",
   "metadata": {},
   "source": [
    "The five best texts that fit into topic 2 are shown below"
   ]
  },
  {
   "cell_type": "code",
   "execution_count": 35,
   "id": "7a76fea1-0e10-4ee3-8c9c-7383b3032159",
   "metadata": {},
   "outputs": [
    {
     "data": {
      "text/plain": [
       "['https://www.theguardian.com/environment/2024/apr/17/great-barrier-reef-extreme-coral-bleaching',\n",
       " 'https://www.theguardian.com/environment/2020/apr/01/climate-crisis-may-have-pushed-worlds-tropical-coral-reefs-to-tipping-point-of-near-annual-bleaching',\n",
       " 'https://www.theguardian.com/environment/2020/feb/20/great-barrier-reef-on-brink-of-third-major-coral-bleaching-in-five-years-scientists-warn',\n",
       " 'https://www.theguardian.com/environment/2024/apr/15/great-barrier-reef-coral-bleaching-global-heating',\n",
       " 'https://www.theguardian.com/environment/2022/mar/17/great-barrier-reef-hit-by-sixth-mass-bleaching-event-leading-coral-scientist-says']"
      ]
     },
     "execution_count": 35,
     "metadata": {},
     "output_type": "execute_result"
    }
   ],
   "source": [
    "(\n",
    "    data_doc_topic_words\n",
    "    .query(\"topic_num == 2\")\n",
    "    .nsmallest(5, \"topic_num_resid\")[\"url\"].tolist()\n",
    ")"
   ]
  },
  {
   "cell_type": "markdown",
   "id": "25903207-5b3f-4b8c-bcc4-3f22d81f4f4a",
   "metadata": {},
   "source": [
    "**Observations**\n",
    "\n",
    "1. [strong coral bleaching observed at Great Barrier Reef](https://www.theguardian.com/environment/2024/apr/17/great-barrier-reef-extreme-coral-bleaching)\n",
    "2. [rising ocean temperatures could have pushed coral reefs to experience annual bleaching events](https://www.theguardian.com/environment/2020/apr/01/climate-crisis-may-have-pushed-worlds-tropical-coral-reefs-to-tipping-point-of-near-annual-bleaching)\n",
    "3. [third major coral bleaching event projected at Great Barrier Reef](https://www.theguardian.com/environment/2020/feb/20/great-barrier-reef-on-brink-of-third-major-coral-bleaching-in-five-years-scientists-warn)\n",
    "4. [global warming accounts for another mass planet-wide bleaching event](https://www.theguardian.com/environment/2024/apr/15/great-barrier-reef-coral-bleaching-global-heating)\n",
    "5. [sixth major coral bleaching event projected at Great Barrier Reef](https://www.theguardian.com/environment/2022/mar/17/great-barrier-reef-hit-by-sixth-mass-bleaching-event-leading-coral-scientist-says)"
   ]
  },
  {
   "cell_type": "markdown",
   "id": "de046584-c303-4a1a-8472-b2dd018e25a7",
   "metadata": {},
   "source": [
    "**Topic Name**: **occurrence of major bleaching events at GBR**"
   ]
  },
  {
   "cell_type": "markdown",
   "id": "faba5f4d-14b0-4b9d-afcb-1a7dcc99cb37",
   "metadata": {},
   "source": [
    "#### Topic 3"
   ]
  },
  {
   "cell_type": "code",
   "execution_count": 47,
   "id": "35e90546-75d1-462f-90c2-fddca19294fd",
   "metadata": {},
   "outputs": [
    {
     "data": {
      "text/html": [
       "<div>\n",
       "<style scoped>\n",
       "    .dataframe tbody tr th:only-of-type {\n",
       "        vertical-align: middle;\n",
       "    }\n",
       "\n",
       "    .dataframe tbody tr th {\n",
       "        vertical-align: top;\n",
       "    }\n",
       "\n",
       "    .dataframe thead th {\n",
       "        text-align: right;\n",
       "    }\n",
       "</style>\n",
       "<table border=\"1\" class=\"dataframe\">\n",
       "  <thead>\n",
       "    <tr style=\"text-align: right;\">\n",
       "      <th></th>\n",
       "      <th>term</th>\n",
       "      <th>weight</th>\n",
       "    </tr>\n",
       "  </thead>\n",
       "  <tbody>\n",
       "    <tr>\n",
       "      <th>9</th>\n",
       "      <td>ocean</td>\n",
       "      <td>0.468881</td>\n",
       "    </tr>\n",
       "    <tr>\n",
       "      <th>8</th>\n",
       "      <td>heat</td>\n",
       "      <td>0.327990</td>\n",
       "    </tr>\n",
       "    <tr>\n",
       "      <th>7</th>\n",
       "      <td>temperatur</td>\n",
       "      <td>0.313417</td>\n",
       "    </tr>\n",
       "    <tr>\n",
       "      <th>6</th>\n",
       "      <td>warm</td>\n",
       "      <td>0.240776</td>\n",
       "    </tr>\n",
       "    <tr>\n",
       "      <th>5</th>\n",
       "      <td>climat</td>\n",
       "      <td>0.237724</td>\n",
       "    </tr>\n",
       "    <tr>\n",
       "      <th>4</th>\n",
       "      <td>heatwav</td>\n",
       "      <td>0.216960</td>\n",
       "    </tr>\n",
       "    <tr>\n",
       "      <th>0</th>\n",
       "      <td>record</td>\n",
       "      <td>0.192084</td>\n",
       "    </tr>\n",
       "    <tr>\n",
       "      <th>3</th>\n",
       "      <td>newslett</td>\n",
       "      <td>0.185875</td>\n",
       "    </tr>\n",
       "    <tr>\n",
       "      <th>2</th>\n",
       "      <td>sea</td>\n",
       "      <td>0.166907</td>\n",
       "    </tr>\n",
       "    <tr>\n",
       "      <th>1</th>\n",
       "      <td>global</td>\n",
       "      <td>0.163982</td>\n",
       "    </tr>\n",
       "  </tbody>\n",
       "</table>\n",
       "</div>"
      ],
      "text/plain": [
       "         term    weight\n",
       "9       ocean  0.468881\n",
       "8        heat  0.327990\n",
       "7  temperatur  0.313417\n",
       "6        warm  0.240776\n",
       "5      climat  0.237724\n",
       "4     heatwav  0.216960\n",
       "0      record  0.192084\n",
       "3    newslett  0.185875\n",
       "2         sea  0.166907\n",
       "1      global  0.163982"
      ]
     },
     "execution_count": 47,
     "metadata": {},
     "output_type": "execute_result"
    }
   ],
   "source": [
    "(\n",
    "    df_topic_word_weights_top_ten\n",
    "    .query(\"topic_num == 3\")\n",
    "    .reset_index(drop=True)\n",
    "    .nlargest(10, 'weight')\n",
    "    [['term', 'weight']]\n",
    ")"
   ]
  },
  {
   "cell_type": "markdown",
   "id": "15922aa3-fb9a-41f3-9d95-0d6b721fdec4",
   "metadata": {},
   "source": [
    "The five best texts that fit into topic 3 are shown below"
   ]
  },
  {
   "cell_type": "code",
   "execution_count": 36,
   "id": "8d41c80e-31f1-410c-9528-cb766b47cf0f",
   "metadata": {},
   "outputs": [
    {
     "data": {
      "text/plain": [
       "['https://www.theguardian.com/environment/2023/apr/08/headed-off-the-charts-worlds-ocean-surface-temperature-hits-record-high',\n",
       " 'https://www.theguardian.com/environment/2023/may/15/oceans-have-been-absorbing-the-worlds-extra-heat-but-theres-a-huge-payback',\n",
       " 'https://www.theguardian.com/environment/2023/aug/04/oceans-hit-highest-ever-recorded-temperature',\n",
       " 'https://www.theguardian.com/environment/2023/apr/26/accelerating-ocean-warming-earth-temperatures-climate-crisis',\n",
       " 'https://www.theguardian.com/environment/2022/oct/18/amount-of-ocean-heat-found-to-be-accelerating-and-fuelling-extreme-weather-events']"
      ]
     },
     "execution_count": 36,
     "metadata": {},
     "output_type": "execute_result"
    }
   ],
   "source": [
    "(\n",
    "    data_doc_topic_words\n",
    "    .query(\"topic_num == 3\")\n",
    "    .nsmallest(5, \"topic_num_resid\")[\"url\"].tolist()\n",
    ")"
   ]
  },
  {
   "cell_type": "markdown",
   "id": "5b0963cb-f283-4451-815d-c33b5f8e0bb9",
   "metadata": {},
   "source": [
    "**Observations**\n",
    "\n",
    "1. [record ocean temperature observed](https://www.theguardian.com/environment/2023/apr/08/headed-off-the-charts-worlds-ocean-surface-temperature-hits-record-high)\n",
    "2. [consequences of record ocean temperatures](https://www.theguardian.com/environment/2023/may/15/oceans-have-been-absorbing-the-worlds-extra-heat-but-theres-a-huge-payback)\n",
    "3. [ocean temperature reaches record and is climbing](https://www.theguardian.com/environment/2023/aug/04/oceans-hit-highest-ever-recorded-temperature)\n",
    "4. [record ocean temperatures and their consequences](https://www.theguardian.com/environment/2023/apr/26/accelerating-ocean-warming-earth-temperatures-climate-crisis)\n",
    "5. [ocean heat is accelerating and triggering extreme weather events, that damage coral reefs](https://www.theguardian.com/environment/2022/oct/18/amount-of-ocean-heat-found-to-be-accelerating-and-fuelling-extreme-weather-events)"
   ]
  },
  {
   "cell_type": "markdown",
   "id": "34838e97-80f9-48b2-9086-55a57609fec2",
   "metadata": {},
   "source": [
    "**Topic Name**: **occurrence of record ocean temperatures that** have potential to **trigger bleaching** events"
   ]
  },
  {
   "cell_type": "markdown",
   "id": "21cde893-3918-4634-b9a5-e359642a95c8",
   "metadata": {},
   "source": [
    "#### Topic 4"
   ]
  },
  {
   "cell_type": "code",
   "execution_count": 46,
   "id": "5085f6eb-aa89-43f1-b1bb-bd5b459ecc2d",
   "metadata": {},
   "outputs": [
    {
     "data": {
      "text/html": [
       "<div>\n",
       "<style scoped>\n",
       "    .dataframe tbody tr th:only-of-type {\n",
       "        vertical-align: middle;\n",
       "    }\n",
       "\n",
       "    .dataframe tbody tr th {\n",
       "        vertical-align: top;\n",
       "    }\n",
       "\n",
       "    .dataframe thead th {\n",
       "        text-align: right;\n",
       "    }\n",
       "</style>\n",
       "<table border=\"1\" class=\"dataframe\">\n",
       "  <thead>\n",
       "    <tr style=\"text-align: right;\">\n",
       "      <th></th>\n",
       "      <th>term</th>\n",
       "      <th>weight</th>\n",
       "    </tr>\n",
       "  </thead>\n",
       "  <tbody>\n",
       "    <tr>\n",
       "      <th>8</th>\n",
       "      <td>qualiti</td>\n",
       "      <td>0.299211</td>\n",
       "    </tr>\n",
       "    <tr>\n",
       "      <th>7</th>\n",
       "      <td>water qualiti</td>\n",
       "      <td>0.281145</td>\n",
       "    </tr>\n",
       "    <tr>\n",
       "      <th>6</th>\n",
       "      <td>govern</td>\n",
       "      <td>0.255245</td>\n",
       "    </tr>\n",
       "    <tr>\n",
       "      <th>5</th>\n",
       "      <td>regul</td>\n",
       "      <td>0.237542</td>\n",
       "    </tr>\n",
       "    <tr>\n",
       "      <th>9</th>\n",
       "      <td>farmer</td>\n",
       "      <td>0.228056</td>\n",
       "    </tr>\n",
       "    <tr>\n",
       "      <th>4</th>\n",
       "      <td>scienc</td>\n",
       "      <td>0.199147</td>\n",
       "    </tr>\n",
       "    <tr>\n",
       "      <th>3</th>\n",
       "      <td>report</td>\n",
       "      <td>0.196448</td>\n",
       "    </tr>\n",
       "    <tr>\n",
       "      <th>2</th>\n",
       "      <td>barrier reef</td>\n",
       "      <td>0.196054</td>\n",
       "    </tr>\n",
       "    <tr>\n",
       "      <th>1</th>\n",
       "      <td>great barrier</td>\n",
       "      <td>0.193192</td>\n",
       "    </tr>\n",
       "    <tr>\n",
       "      <th>0</th>\n",
       "      <td>barrier</td>\n",
       "      <td>0.193001</td>\n",
       "    </tr>\n",
       "  </tbody>\n",
       "</table>\n",
       "</div>"
      ],
      "text/plain": [
       "            term    weight\n",
       "8        qualiti  0.299211\n",
       "7  water qualiti  0.281145\n",
       "6         govern  0.255245\n",
       "5          regul  0.237542\n",
       "9         farmer  0.228056\n",
       "4         scienc  0.199147\n",
       "3         report  0.196448\n",
       "2   barrier reef  0.196054\n",
       "1  great barrier  0.193192\n",
       "0        barrier  0.193001"
      ]
     },
     "execution_count": 46,
     "metadata": {},
     "output_type": "execute_result"
    }
   ],
   "source": [
    "(\n",
    "    df_topic_word_weights_top_ten\n",
    "    .query(\"topic_num == 4\")\n",
    "    .reset_index(drop=True)\n",
    "    .nlargest(10, 'weight')\n",
    "    [['term', 'weight']]\n",
    ")"
   ]
  },
  {
   "cell_type": "markdown",
   "id": "cbf5f333-8ab3-4b10-9ac3-fbe2f604e79f",
   "metadata": {},
   "source": [
    "The five best texts that fit into topic 4 are shown below"
   ]
  },
  {
   "cell_type": "code",
   "execution_count": 37,
   "id": "e1d99e7a-b625-4bba-b1e7-b36095ac9cdb",
   "metadata": {},
   "outputs": [
    {
     "data": {
      "text/plain": [
       "['https://www.theguardian.com/environment/2019/sep/19/reef-protection-laws-pass-despite-industry-attacks-on-their-scientific-basis',\n",
       " 'https://www.theguardian.com/environment/2019/nov/17/queensland-farmers-federation-bosss-denial-of-science-sparks-call-to-suspend-reef-grants',\n",
       " 'https://www.theguardian.com/environment/2019/nov/26/australias-science-academy-attacks-cherrypicking-of-great-barrier-reef-research',\n",
       " 'https://www.theguardian.com/environment/2022/feb/13/australia-is-spending-billions-on-the-great-barrier-reef-will-it-do-any-good',\n",
       " 'https://www.theguardian.com/environment/2020/oct/09/scientists-claim-coalition-misrepresented-their-evidence-to-great-barrier-reef-inquiry']"
      ]
     },
     "execution_count": 37,
     "metadata": {},
     "output_type": "execute_result"
    }
   ],
   "source": [
    "(\n",
    "    data_doc_topic_words\n",
    "    .query(\"topic_num == 4\")\n",
    "    .nsmallest(5, \"topic_num_resid\")[\"url\"].tolist()\n",
    ")"
   ]
  },
  {
   "cell_type": "markdown",
   "id": "950c2dd8-ce9a-44ac-a603-ee89f7b29822",
   "metadata": {},
   "source": [
    "**Observations**\n",
    "\n",
    "1. [coral reef protection laws approved in Australia, despite agricultural industry criticizing science behind these laws](https://www.theguardian.com/environment/2019/sep/19/reef-protection-laws-pass-despite-industry-attacks-on-their-scientific-basis)\n",
    "2. [agricultural industry leader critizes science behind Great Barrier Reef protection and calls to stop reef protection funding](https://www.theguardian.com/environment/2019/nov/17/queensland-farmers-federation-bosss-denial-of-science-sparks-call-to-suspend-reef-grants)\n",
    "3. [Science institution responds to misrepresentation of scientific evidence by those that deny climate science](https://www.theguardian.com/environment/2019/nov/26/australias-science-academy-attacks-cherrypicking-of-great-barrier-reef-research)\n",
    "4. [assessment of whether Great Barrier reef funding can offset rising temperatures from climate change](https://www.theguardian.com/environment/2022/feb/13/australia-is-spending-billions-on-the-great-barrier-reef-will-it-do-any-good)\n",
    "5. [politicians criticize scientists for linking polluted farm water runoff and damage (bleach) to Great Barrier reef](https://www.theguardian.com/environment/2020/oct/09/scientists-claim-coalition-misrepresented-their-evidence-to-great-barrier-reef-inquiry)"
   ]
  },
  {
   "cell_type": "markdown",
   "id": "d692c81f-f733-4623-98fb-c3ed982fe256",
   "metadata": {},
   "source": [
    "**Topic Name**: **opposition to coral reef protection laws by agricultural industry**"
   ]
  },
  {
   "cell_type": "markdown",
   "id": "c8451aa1-e930-43a1-aabb-a0ac3b158385",
   "metadata": {},
   "source": [
    "#### Topic 5"
   ]
  },
  {
   "cell_type": "code",
   "execution_count": 45,
   "id": "4b40ee8b-af43-4ebe-b32c-2a2c7834b271",
   "metadata": {},
   "outputs": [
    {
     "data": {
      "text/html": [
       "<div>\n",
       "<style scoped>\n",
       "    .dataframe tbody tr th:only-of-type {\n",
       "        vertical-align: middle;\n",
       "    }\n",
       "\n",
       "    .dataframe tbody tr th {\n",
       "        vertical-align: top;\n",
       "    }\n",
       "\n",
       "    .dataframe thead th {\n",
       "        text-align: right;\n",
       "    }\n",
       "</style>\n",
       "<table border=\"1\" class=\"dataframe\">\n",
       "  <thead>\n",
       "    <tr style=\"text-align: right;\">\n",
       "      <th></th>\n",
       "      <th>term</th>\n",
       "      <th>weight</th>\n",
       "    </tr>\n",
       "  </thead>\n",
       "  <tbody>\n",
       "    <tr>\n",
       "      <th>8</th>\n",
       "      <td>shark</td>\n",
       "      <td>1.223388</td>\n",
       "    </tr>\n",
       "    <tr>\n",
       "      <th>7</th>\n",
       "      <td>reef shark</td>\n",
       "      <td>0.156965</td>\n",
       "    </tr>\n",
       "    <tr>\n",
       "      <th>5</th>\n",
       "      <td>fish</td>\n",
       "      <td>0.136915</td>\n",
       "    </tr>\n",
       "    <tr>\n",
       "      <th>6</th>\n",
       "      <td>studi</td>\n",
       "      <td>0.131745</td>\n",
       "    </tr>\n",
       "    <tr>\n",
       "      <th>9</th>\n",
       "      <td>egg</td>\n",
       "      <td>0.119726</td>\n",
       "    </tr>\n",
       "    <tr>\n",
       "      <th>4</th>\n",
       "      <td>speci</td>\n",
       "      <td>0.117203</td>\n",
       "    </tr>\n",
       "    <tr>\n",
       "      <th>0</th>\n",
       "      <td>egg case</td>\n",
       "      <td>0.096736</td>\n",
       "    </tr>\n",
       "    <tr>\n",
       "      <th>3</th>\n",
       "      <td>number</td>\n",
       "      <td>0.089933</td>\n",
       "    </tr>\n",
       "    <tr>\n",
       "      <th>2</th>\n",
       "      <td>rummer</td>\n",
       "      <td>0.088798</td>\n",
       "    </tr>\n",
       "    <tr>\n",
       "      <th>1</th>\n",
       "      <td>ray</td>\n",
       "      <td>0.074308</td>\n",
       "    </tr>\n",
       "  </tbody>\n",
       "</table>\n",
       "</div>"
      ],
      "text/plain": [
       "         term    weight\n",
       "8       shark  1.223388\n",
       "7  reef shark  0.156965\n",
       "5        fish  0.136915\n",
       "6       studi  0.131745\n",
       "9         egg  0.119726\n",
       "4       speci  0.117203\n",
       "0    egg case  0.096736\n",
       "3      number  0.089933\n",
       "2      rummer  0.088798\n",
       "1         ray  0.074308"
      ]
     },
     "execution_count": 45,
     "metadata": {},
     "output_type": "execute_result"
    }
   ],
   "source": [
    "(\n",
    "    df_topic_word_weights_top_ten\n",
    "    .query(\"topic_num == 5\")\n",
    "    .reset_index(drop=True)\n",
    "    .nlargest(10, 'weight')\n",
    "    [['term', 'weight']]\n",
    ")"
   ]
  },
  {
   "cell_type": "markdown",
   "id": "d7c046fb-2353-4c94-a887-3e85367b05aa",
   "metadata": {},
   "source": [
    "The five best texts that fit into topic 5 are shown below"
   ]
  },
  {
   "cell_type": "code",
   "execution_count": 38,
   "id": "3ef0c1a4-a5b1-462b-8e11-d0353117833e",
   "metadata": {},
   "outputs": [
    {
     "data": {
      "text/plain": [
       "['https://www.theguardian.com/environment/2021/jan/31/will-sharks-survive-scientists-fear-for-oceans-apex-predators-without-more-protection',\n",
       " 'https://www.theguardian.com/environment/2020/jul/06/why-we-need-sharks-the-true-nature-of-the-oceans-monstrous-villains',\n",
       " 'https://www.theguardian.com/environment/2020/jul/23/sharks-functionally-extinct-at-20-of-worlds-coral-reefs-as-fishing-drives-global-decline',\n",
       " 'https://www.theguardian.com/environment/article/2024/sep/09/sharks-deserting-coral-reefs-climate-crisis-heating-oceans-study',\n",
       " 'https://www.theguardian.com/environment/2021/jan/12/baby-sharks-emerge-from-egg-cases-earlier-and-weaker-in-oceans-warmed-by-climate-crisis']"
      ]
     },
     "execution_count": 38,
     "metadata": {},
     "output_type": "execute_result"
    }
   ],
   "source": [
    "(\n",
    "    data_doc_topic_words\n",
    "    .query(\"topic_num == 5\")\n",
    "    .nsmallest(5, \"topic_num_resid\")[\"url\"].tolist()\n",
    ")"
   ]
  },
  {
   "cell_type": "markdown",
   "id": "47fec2f4-804c-4ac9-8536-e149fae20408",
   "metadata": {},
   "source": [
    "**Observations**\n",
    "\n",
    "1. [damaging impact of declining sharks (by increased global fishing) in the open ocean on coral reefs](https://www.theguardian.com/environment/2021/jan/31/will-sharks-survive-scientists-fear-for-oceans-apex-predators-without-more-protection)\n",
    "2. [how sharks protect coral reefs from being overrun and damaged by small fish and algae](https://www.theguardian.com/environment/2020/jul/06/why-we-need-sharks-the-true-nature-of-the-oceans-monstrous-villains)\n",
    "3. [decline of sharks globally is adding to damage inflicted by climate change (rising temperatures)](https://www.theguardian.com/environment/2020/jul/23/sharks-functionally-extinct-at-20-of-worlds-coral-reefs-as-fishing-drives-global-decline)\n",
    "4. [report on scientific study showing how absence of predator (sharks) and bleaching are combining to damage coral reefs](https://www.theguardian.com/environment/article/2024/sep/09/sharks-deserting-coral-reefs-climate-crisis-heating-oceans-study)\n",
    "5. [baby sharks are weakened by climate change, which impedes their ability to protect coral reefs](https://www.theguardian.com/environment/2021/jan/12/baby-sharks-emerge-from-egg-cases-earlier-and-weaker-in-oceans-warmed-by-climate-crisis)"
   ]
  },
  {
   "cell_type": "markdown",
   "id": "9abe0274-1297-4421-872f-9d7cc20e485f",
   "metadata": {},
   "source": [
    "**Topic Name**: **increased shark hunting compounds coral bleaching due to climate change**"
   ]
  },
  {
   "cell_type": "markdown",
   "id": "e067dc63-2730-4734-ba48-077f62572ccc",
   "metadata": {},
   "source": [
    "#### Topic 6"
   ]
  },
  {
   "cell_type": "code",
   "execution_count": 44,
   "id": "36aa045a-0b43-41a2-ae50-c9cc4b3e2254",
   "metadata": {},
   "outputs": [
    {
     "data": {
      "text/html": [
       "<div>\n",
       "<style scoped>\n",
       "    .dataframe tbody tr th:only-of-type {\n",
       "        vertical-align: middle;\n",
       "    }\n",
       "\n",
       "    .dataframe tbody tr th {\n",
       "        vertical-align: top;\n",
       "    }\n",
       "\n",
       "    .dataframe thead th {\n",
       "        text-align: right;\n",
       "    }\n",
       "</style>\n",
       "<table border=\"1\" class=\"dataframe\">\n",
       "  <thead>\n",
       "    <tr style=\"text-align: right;\">\n",
       "      <th></th>\n",
       "      <th>term</th>\n",
       "      <th>weight</th>\n",
       "    </tr>\n",
       "  </thead>\n",
       "  <tbody>\n",
       "    <tr>\n",
       "      <th>1</th>\n",
       "      <td>studi</td>\n",
       "      <td>0.240067</td>\n",
       "    </tr>\n",
       "    <tr>\n",
       "      <th>2</th>\n",
       "      <td>barrier reef</td>\n",
       "      <td>0.212199</td>\n",
       "    </tr>\n",
       "    <tr>\n",
       "      <th>3</th>\n",
       "      <td>barrier</td>\n",
       "      <td>0.210676</td>\n",
       "    </tr>\n",
       "    <tr>\n",
       "      <th>4</th>\n",
       "      <td>great barrier</td>\n",
       "      <td>0.204385</td>\n",
       "    </tr>\n",
       "    <tr>\n",
       "      <th>5</th>\n",
       "      <td>great</td>\n",
       "      <td>0.204148</td>\n",
       "    </tr>\n",
       "    <tr>\n",
       "      <th>6</th>\n",
       "      <td>coral reef</td>\n",
       "      <td>0.185955</td>\n",
       "    </tr>\n",
       "    <tr>\n",
       "      <th>7</th>\n",
       "      <td>climat</td>\n",
       "      <td>0.185765</td>\n",
       "    </tr>\n",
       "    <tr>\n",
       "      <th>8</th>\n",
       "      <td>larva</td>\n",
       "      <td>0.183259</td>\n",
       "    </tr>\n",
       "    <tr>\n",
       "      <th>0</th>\n",
       "      <td>cloud</td>\n",
       "      <td>0.180724</td>\n",
       "    </tr>\n",
       "    <tr>\n",
       "      <th>9</th>\n",
       "      <td>research</td>\n",
       "      <td>0.178643</td>\n",
       "    </tr>\n",
       "  </tbody>\n",
       "</table>\n",
       "</div>"
      ],
      "text/plain": [
       "            term    weight\n",
       "1          studi  0.240067\n",
       "2   barrier reef  0.212199\n",
       "3        barrier  0.210676\n",
       "4  great barrier  0.204385\n",
       "5          great  0.204148\n",
       "6     coral reef  0.185955\n",
       "7         climat  0.185765\n",
       "8          larva  0.183259\n",
       "0          cloud  0.180724\n",
       "9       research  0.178643"
      ]
     },
     "execution_count": 44,
     "metadata": {},
     "output_type": "execute_result"
    }
   ],
   "source": [
    "(\n",
    "    df_topic_word_weights_top_ten\n",
    "    .query(\"topic_num == 6\")\n",
    "    .reset_index(drop=True)\n",
    "    .nlargest(10, 'weight')\n",
    "    [['term', 'weight']]\n",
    ")"
   ]
  },
  {
   "cell_type": "markdown",
   "id": "9105b924-5846-43c3-80ba-4ed34e3d73a2",
   "metadata": {},
   "source": [
    "The five best texts that fit into topic 6 are shown below"
   ]
  },
  {
   "cell_type": "code",
   "execution_count": 39,
   "id": "3e6e93f1-03b8-4e52-a8cc-5c0e9f7b66bf",
   "metadata": {},
   "outputs": [
    {
     "data": {
      "text/plain": [
       "['https://www.theguardian.com/environment/2020/apr/18/rebuild-it-shade-it-breed-it-three-tactics-to-buy-time-for-the-great-barrier-reef',\n",
       " 'https://www.theguardian.com/environment/2021/apr/29/life-support-measures-could-buy-great-barrier-reef-another-two-decades-study-finds',\n",
       " 'https://www.theguardian.com/environment/2020/apr/16/brightening-clouds-and-coral-larvae-study-picks-best-great-barrier-reef-rescue-ideas',\n",
       " 'https://www.theguardian.com/environment/2021/nov/26/great-barrier-reef-how-a-spectacular-coral-spawning-event-is-helping-to-breed-heat-tolerant-corals',\n",
       " 'https://www.theguardian.com/environment/2020/oct/17/why-there-is-hope-that-the-worlds-coral-reefs-can-be-saved']"
      ]
     },
     "execution_count": 39,
     "metadata": {},
     "output_type": "execute_result"
    }
   ],
   "source": [
    "(\n",
    "    data_doc_topic_words\n",
    "    .query(\"topic_num == 6\")\n",
    "    .nsmallest(5, \"topic_num_resid\")[\"url\"].tolist()\n",
    ")"
   ]
  },
  {
   "cell_type": "markdown",
   "id": "08da0182-f1cf-4a2a-9fe7-2d355f86a6f6",
   "metadata": {},
   "source": [
    "**Observations**\n",
    "\n",
    "1. [3 strategies to buy time for Great Barrier Reef (rebuild, shade and breed)](https://www.theguardian.com/environment/2020/apr/18/rebuild-it-shade-it-breed-it-three-tactics-to-buy-time-for-the-great-barrier-reef)\n",
    "2. [emergency measures recommended to offset coral damage in Great Barrier Reef due to bleaching and extend life by 20 years](https://www.theguardian.com/environment/2021/apr/29/life-support-measures-could-buy-great-barrier-reef-another-two-decades-study-finds)\n",
    "3. [study selecting best ideas to rescue Great Barrier reef](https://www.theguardian.com/environment/2020/apr/16/brightening-clouds-and-coral-larvae-study-picks-best-great-barrier-reef-rescue-ideas)\n",
    "4. [how new coral spawning event could counter declining corals due to bleaching events](https://www.theguardian.com/environment/2021/nov/26/great-barrier-reef-how-a-spectacular-coral-spawning-event-is-helping-to-breed-heat-tolerant-corals)\n",
    "5. [strategies to save coral reefs from consequences of climate change](https://www.theguardian.com/environment/2020/oct/17/why-there-is-hope-that-the-worlds-coral-reefs-can-be-saved)"
   ]
  },
  {
   "cell_type": "markdown",
   "id": "8e003b0b-f727-4bd7-b6c8-e44a3e70c957",
   "metadata": {},
   "source": [
    "**Topic Name**: **scientific recommendations to counter impact of bleaching events**"
   ]
  },
  {
   "cell_type": "markdown",
   "id": "b1512f46-a367-4b13-ad59-9e1ca0118600",
   "metadata": {},
   "source": [
    "## Conclusions"
   ]
  },
  {
   "cell_type": "markdown",
   "id": "c92dc70d-2180-40fa-b687-b3164ecea2d1",
   "metadata": {},
   "source": [
    "1. The number of topics in the Guardian's news articles on coral bleaching was determined to be 7, using the topic coherence score metric.\n",
    "2. The top terms per topic were identified. Using these and by reading news articles within each topic, it was possible to name the topics. Below are the topics in the Guardian's news articles over the last 5 years (since January 2019) that cover coral bleaching\n",
    "   - Topic 0 - Ocean **conservation activities to protect and restore corals**\n",
    "   - Topic 1 - Scientific recommendation to **place Great Barrier Reef on list of in-danger heritage sites** due to consequences of global warming\n",
    "   - Topic 2 - **occurrence of major bleaching events at GBR**\n",
    "   - Topic 3 - **occurrence of record ocean temperatures that have potential to trigger bleaching events**\n",
    "   - Topic 4 - **opposition to coral reef protection laws by agricultural industry**\n",
    "   - Topic 5 - **increased shark hunting compounds coral bleaching due to climate change**\n",
    "   - Topic 6 - **scientific recommendations to counter impact of bleaching events**\n",
    "3. All topics except for topics 0 and 5 are directly related to coral bleaching events. Topics 0 and 5 indirectly discuss occurrence of coral bleaching events."
   ]
  },
  {
   "cell_type": "markdown",
   "id": "a34b49db-4ee9-4def-ad0e-2054afe45a1a",
   "metadata": {},
   "source": [
    "## Summary"
   ]
  },
  {
   "cell_type": "markdown",
   "id": "285bb322-2af3-46a6-a858-e085b08425aa",
   "metadata": {},
   "source": [
    "Topic modeling has extracted topics that characterize how the scientific community, public and industry addresses the impact of climate change on worldwide coral reefs. While an underlying theme of rising global tempeartures damaging global coral deposits is prevalent, the Guardian has published important stories on activities that compound and seek to offset or delay this damage."
   ]
  }
 ],
 "metadata": {
  "kernelspec": {
   "display_name": "Python 3 (ipykernel)",
   "language": "python",
   "name": "python3"
  },
  "language_info": {
   "codemirror_mode": {
    "name": "ipython",
    "version": 3
   },
   "file_extension": ".py",
   "mimetype": "text/x-python",
   "name": "python",
   "nbconvert_exporter": "python",
   "pygments_lexer": "ipython3",
   "version": "3.10.12"
  }
 },
 "nbformat": 4,
 "nbformat_minor": 5
}
