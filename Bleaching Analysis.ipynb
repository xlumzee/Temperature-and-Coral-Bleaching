{
 "cells": [
  {
   "cell_type": "code",
   "execution_count": null,
   "id": "1b91a902-e33a-4df2-a8da-affaa8d32c15",
   "metadata": {},
   "outputs": [],
   "source": []
  }
 ],
 "metadata": {
  "kernelspec": {
   "display_name": "",
   "name": ""
  },
  "language_info": {
   "name": ""
  }
 },
 "nbformat": 4,
 "nbformat_minor": 5
}
